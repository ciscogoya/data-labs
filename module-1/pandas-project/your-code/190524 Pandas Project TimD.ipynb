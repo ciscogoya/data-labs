{
 "cells": [
  {
   "cell_type": "code",
   "execution_count": 1,
   "metadata": {},
   "outputs": [],
   "source": [
    "import numpy as np\n",
    "import pandas as pd"
   ]
  },
  {
   "cell_type": "code",
   "execution_count": 2,
   "metadata": {},
   "outputs": [
    {
     "data": {
      "text/plain": [
       "'/Users/timotheeduverne/Documents/GitHub/Test-Tim/data-labs/module-1/pandas-project/your-code'"
      ]
     },
     "execution_count": 2,
     "metadata": {},
     "output_type": "execute_result"
    }
   ],
   "source": [
    "import os\n",
    "os.getcwd()\n",
    "\n",
    "\"\"\"\n",
    "Checking that the directory I'm working in is correct\n",
    "\"\"\""
   ]
  },
  {
   "cell_type": "code",
   "execution_count": 122,
   "metadata": {},
   "outputs": [
    {
     "data": {
      "text/plain": [
       "'\\nSpecifying the parsing engine allowed me to overcome the initial error when\\nreading the csv file, since the python based parser is more feature rich.\\nNo need to specify the separator since commas are the default separators, as in our file.\\n'"
      ]
     },
     "execution_count": 122,
     "metadata": {},
     "output_type": "execute_result"
    }
   ],
   "source": [
    "df=pd.read_csv('/Users/timotheeduverne/Downloads/GSAF5.csv',engine='python')\n",
    "\n",
    "\"\"\"\n",
    "Specifying the parsing engine allowed me to overcome the initial error when\n",
    "reading the csv file, since the python based parser is more feature rich.\n",
    "No need to specify the separator since commas are the default separators, as in our file.\n",
    "\"\"\""
   ]
  },
  {
   "cell_type": "code",
   "execution_count": 7,
   "metadata": {},
   "outputs": [
    {
     "data": {
      "text/html": [
       "<div>\n",
       "<style scoped>\n",
       "    .dataframe tbody tr th:only-of-type {\n",
       "        vertical-align: middle;\n",
       "    }\n",
       "\n",
       "    .dataframe tbody tr th {\n",
       "        vertical-align: top;\n",
       "    }\n",
       "\n",
       "    .dataframe thead th {\n",
       "        text-align: right;\n",
       "    }\n",
       "</style>\n",
       "<table border=\"1\" class=\"dataframe\">\n",
       "  <thead>\n",
       "    <tr style=\"text-align: right;\">\n",
       "      <th></th>\n",
       "      <th>Case Number</th>\n",
       "      <th>Date</th>\n",
       "      <th>Year</th>\n",
       "      <th>Type</th>\n",
       "      <th>Country</th>\n",
       "      <th>Area</th>\n",
       "      <th>Location</th>\n",
       "      <th>Activity</th>\n",
       "      <th>Name</th>\n",
       "      <th>Sex</th>\n",
       "      <th>...</th>\n",
       "      <th>Species</th>\n",
       "      <th>Investigator or Source</th>\n",
       "      <th>pdf</th>\n",
       "      <th>href formula</th>\n",
       "      <th>href</th>\n",
       "      <th>Case Number.1</th>\n",
       "      <th>Case Number.2</th>\n",
       "      <th>original order</th>\n",
       "      <th>Unnamed: 22</th>\n",
       "      <th>Unnamed: 23</th>\n",
       "    </tr>\n",
       "  </thead>\n",
       "  <tbody>\n",
       "    <tr>\n",
       "      <th>0</th>\n",
       "      <td>2016.09.18.c</td>\n",
       "      <td>18-Sep-16</td>\n",
       "      <td>2016</td>\n",
       "      <td>Unprovoked</td>\n",
       "      <td>USA</td>\n",
       "      <td>Florida</td>\n",
       "      <td>New Smyrna Beach, Volusia County</td>\n",
       "      <td>Surfing</td>\n",
       "      <td>male</td>\n",
       "      <td>M</td>\n",
       "      <td>...</td>\n",
       "      <td>NaN</td>\n",
       "      <td>Orlando Sentinel, 9/19/2016</td>\n",
       "      <td>2016.09.18.c-NSB.pdf</td>\n",
       "      <td>http://sharkattackfile.net/spreadsheets/pdf_di...</td>\n",
       "      <td>http://sharkattackfile.net/spreadsheets/pdf_di...</td>\n",
       "      <td>2016.09.18.c</td>\n",
       "      <td>2016.09.18.c</td>\n",
       "      <td>5993</td>\n",
       "      <td>NaN</td>\n",
       "      <td>NaN</td>\n",
       "    </tr>\n",
       "    <tr>\n",
       "      <th>1</th>\n",
       "      <td>2016.09.18.b</td>\n",
       "      <td>18-Sep-16</td>\n",
       "      <td>2016</td>\n",
       "      <td>Unprovoked</td>\n",
       "      <td>USA</td>\n",
       "      <td>Florida</td>\n",
       "      <td>New Smyrna Beach, Volusia County</td>\n",
       "      <td>Surfing</td>\n",
       "      <td>Chucky Luciano</td>\n",
       "      <td>M</td>\n",
       "      <td>...</td>\n",
       "      <td>NaN</td>\n",
       "      <td>Orlando Sentinel, 9/19/2016</td>\n",
       "      <td>2016.09.18.b-Luciano.pdf</td>\n",
       "      <td>http://sharkattackfile.net/spreadsheets/pdf_di...</td>\n",
       "      <td>http://sharkattackfile.net/spreadsheets/pdf_di...</td>\n",
       "      <td>2016.09.18.b</td>\n",
       "      <td>2016.09.18.b</td>\n",
       "      <td>5992</td>\n",
       "      <td>NaN</td>\n",
       "      <td>NaN</td>\n",
       "    </tr>\n",
       "    <tr>\n",
       "      <th>2</th>\n",
       "      <td>2016.09.18.a</td>\n",
       "      <td>18-Sep-16</td>\n",
       "      <td>2016</td>\n",
       "      <td>Unprovoked</td>\n",
       "      <td>USA</td>\n",
       "      <td>Florida</td>\n",
       "      <td>New Smyrna Beach, Volusia County</td>\n",
       "      <td>Surfing</td>\n",
       "      <td>male</td>\n",
       "      <td>M</td>\n",
       "      <td>...</td>\n",
       "      <td>NaN</td>\n",
       "      <td>Orlando Sentinel, 9/19/2016</td>\n",
       "      <td>2016.09.18.a-NSB.pdf</td>\n",
       "      <td>http://sharkattackfile.net/spreadsheets/pdf_di...</td>\n",
       "      <td>http://sharkattackfile.net/spreadsheets/pdf_di...</td>\n",
       "      <td>2016.09.18.a</td>\n",
       "      <td>2016.09.18.a</td>\n",
       "      <td>5991</td>\n",
       "      <td>NaN</td>\n",
       "      <td>NaN</td>\n",
       "    </tr>\n",
       "    <tr>\n",
       "      <th>3</th>\n",
       "      <td>2016.09.17</td>\n",
       "      <td>17-Sep-16</td>\n",
       "      <td>2016</td>\n",
       "      <td>Unprovoked</td>\n",
       "      <td>AUSTRALIA</td>\n",
       "      <td>Victoria</td>\n",
       "      <td>Thirteenth Beach</td>\n",
       "      <td>Surfing</td>\n",
       "      <td>Rory Angiolella</td>\n",
       "      <td>M</td>\n",
       "      <td>...</td>\n",
       "      <td>NaN</td>\n",
       "      <td>The Age, 9/18/2016</td>\n",
       "      <td>2016.09.17-Angiolella.pdf</td>\n",
       "      <td>http://sharkattackfile.net/spreadsheets/pdf_di...</td>\n",
       "      <td>http://sharkattackfile.net/spreadsheets/pdf_di...</td>\n",
       "      <td>2016.09.17</td>\n",
       "      <td>2016.09.17</td>\n",
       "      <td>5990</td>\n",
       "      <td>NaN</td>\n",
       "      <td>NaN</td>\n",
       "    </tr>\n",
       "    <tr>\n",
       "      <th>4</th>\n",
       "      <td>2016.09.15</td>\n",
       "      <td>16-Sep-16</td>\n",
       "      <td>2016</td>\n",
       "      <td>Unprovoked</td>\n",
       "      <td>AUSTRALIA</td>\n",
       "      <td>Victoria</td>\n",
       "      <td>Bells Beach</td>\n",
       "      <td>Surfing</td>\n",
       "      <td>male</td>\n",
       "      <td>M</td>\n",
       "      <td>...</td>\n",
       "      <td>2 m shark</td>\n",
       "      <td>The Age, 9/16/2016</td>\n",
       "      <td>2016.09.16-BellsBeach.pdf</td>\n",
       "      <td>http://sharkattackfile.net/spreadsheets/pdf_di...</td>\n",
       "      <td>http://sharkattackfile.net/spreadsheets/pdf_di...</td>\n",
       "      <td>2016.09.16</td>\n",
       "      <td>2016.09.15</td>\n",
       "      <td>5989</td>\n",
       "      <td>NaN</td>\n",
       "      <td>NaN</td>\n",
       "    </tr>\n",
       "  </tbody>\n",
       "</table>\n",
       "<p>5 rows × 24 columns</p>\n",
       "</div>"
      ],
      "text/plain": [
       "    Case Number       Date  Year        Type    Country      Area  \\\n",
       "0  2016.09.18.c  18-Sep-16  2016  Unprovoked        USA   Florida   \n",
       "1  2016.09.18.b  18-Sep-16  2016  Unprovoked        USA   Florida   \n",
       "2  2016.09.18.a  18-Sep-16  2016  Unprovoked        USA   Florida   \n",
       "3    2016.09.17  17-Sep-16  2016  Unprovoked  AUSTRALIA  Victoria   \n",
       "4    2016.09.15  16-Sep-16  2016  Unprovoked  AUSTRALIA  Victoria   \n",
       "\n",
       "                           Location Activity             Name Sex   ...  \\\n",
       "0  New Smyrna Beach, Volusia County  Surfing             male    M  ...   \n",
       "1  New Smyrna Beach, Volusia County  Surfing   Chucky Luciano    M  ...   \n",
       "2  New Smyrna Beach, Volusia County  Surfing             male    M  ...   \n",
       "3                  Thirteenth Beach  Surfing  Rory Angiolella    M  ...   \n",
       "4                       Bells Beach  Surfing             male    M  ...   \n",
       "\n",
       "    Species        Investigator or Source                        pdf  \\\n",
       "0        NaN  Orlando Sentinel, 9/19/2016       2016.09.18.c-NSB.pdf   \n",
       "1        NaN  Orlando Sentinel, 9/19/2016   2016.09.18.b-Luciano.pdf   \n",
       "2        NaN  Orlando Sentinel, 9/19/2016       2016.09.18.a-NSB.pdf   \n",
       "3        NaN           The Age, 9/18/2016  2016.09.17-Angiolella.pdf   \n",
       "4  2 m shark           The Age, 9/16/2016  2016.09.16-BellsBeach.pdf   \n",
       "\n",
       "                                        href formula  \\\n",
       "0  http://sharkattackfile.net/spreadsheets/pdf_di...   \n",
       "1  http://sharkattackfile.net/spreadsheets/pdf_di...   \n",
       "2  http://sharkattackfile.net/spreadsheets/pdf_di...   \n",
       "3  http://sharkattackfile.net/spreadsheets/pdf_di...   \n",
       "4  http://sharkattackfile.net/spreadsheets/pdf_di...   \n",
       "\n",
       "                                                href Case Number.1  \\\n",
       "0  http://sharkattackfile.net/spreadsheets/pdf_di...  2016.09.18.c   \n",
       "1  http://sharkattackfile.net/spreadsheets/pdf_di...  2016.09.18.b   \n",
       "2  http://sharkattackfile.net/spreadsheets/pdf_di...  2016.09.18.a   \n",
       "3  http://sharkattackfile.net/spreadsheets/pdf_di...    2016.09.17   \n",
       "4  http://sharkattackfile.net/spreadsheets/pdf_di...    2016.09.16   \n",
       "\n",
       "  Case Number.2 original order Unnamed: 22 Unnamed: 23  \n",
       "0  2016.09.18.c           5993         NaN         NaN  \n",
       "1  2016.09.18.b           5992         NaN         NaN  \n",
       "2  2016.09.18.a           5991         NaN         NaN  \n",
       "3    2016.09.17           5990         NaN         NaN  \n",
       "4    2016.09.15           5989         NaN         NaN  \n",
       "\n",
       "[5 rows x 24 columns]"
      ]
     },
     "execution_count": 7,
     "metadata": {},
     "output_type": "execute_result"
    }
   ],
   "source": [
    "df.head(5)\n",
    "\n",
    "\"\"\"\n",
    "Just to check out the general aspect of the dataset\n",
    "Allowed me to get a glimpse of some aspects that I will need to clean\n",
    "\n",
    "It seems for instance that the \"href\" and \"href formula\" columns are identical\n",
    "\"\"\""
   ]
  },
  {
   "cell_type": "code",
   "execution_count": 8,
   "metadata": {},
   "outputs": [
    {
     "name": "stdout",
     "output_type": "stream",
     "text": [
      "<class 'pandas.core.frame.DataFrame'>\n",
      "RangeIndex: 5992 entries, 0 to 5991\n",
      "Data columns (total 24 columns):\n",
      "Case Number               5992 non-null object\n",
      "Date                      5992 non-null object\n",
      "Year                      5992 non-null int64\n",
      "Type                      5992 non-null object\n",
      "Country                   5949 non-null object\n",
      "Area                      5590 non-null object\n",
      "Location                  5496 non-null object\n",
      "Activity                  5465 non-null object\n",
      "Name                      5792 non-null object\n",
      "Sex                       5425 non-null object\n",
      "Age                       3311 non-null object\n",
      "Injury                    5965 non-null object\n",
      "Fatal (Y/N)               5973 non-null object\n",
      "Time                      2779 non-null object\n",
      "Species                   3058 non-null object\n",
      "Investigator or Source    5977 non-null object\n",
      "pdf                       5992 non-null object\n",
      "href formula              5991 non-null object\n",
      "href                      5989 non-null object\n",
      "Case Number.1             5992 non-null object\n",
      "Case Number.2             5992 non-null object\n",
      "original order            5992 non-null int64\n",
      "Unnamed: 22               1 non-null object\n",
      "Unnamed: 23               2 non-null object\n",
      "dtypes: int64(2), object(22)\n",
      "memory usage: 1.1+ MB\n"
     ]
    }
   ],
   "source": [
    "df.info()\n",
    "\n",
    "\"\"\"\n",
    "basic analysis of the contents of each column\n",
    "\"\"\""
   ]
  },
  {
   "cell_type": "markdown",
   "metadata": {},
   "source": [
    "Obviously the 2 last columns are useless and should be dropped"
   ]
  },
  {
   "cell_type": "code",
   "execution_count": null,
   "metadata": {},
   "outputs": [],
   "source": []
  },
  {
   "cell_type": "code",
   "execution_count": 11,
   "metadata": {},
   "outputs": [
    {
     "data": {
      "text/plain": [
       "(5992, 24)"
      ]
     },
     "execution_count": 11,
     "metadata": {},
     "output_type": "execute_result"
    }
   ],
   "source": [
    "df.shape\n",
    "\n",
    "\"\"\"\n",
    "shows the dimensions of the data set\n",
    "\"\"\""
   ]
  },
  {
   "cell_type": "code",
   "execution_count": 123,
   "metadata": {},
   "outputs": [],
   "source": [
    "\"\"\"\n",
    "Now we should at least clean the data set from the useless blank spaces\n",
    "at the beginning and end of each string element in the set.\n",
    "\"\"\"\n",
    "for col in df.select_dtypes([np.object]):\n",
    "    df[col] = df[col].str.strip(\" \\\".\")"
   ]
  },
  {
   "cell_type": "code",
   "execution_count": null,
   "metadata": {},
   "outputs": [],
   "source": []
  },
  {
   "cell_type": "code",
   "execution_count": 13,
   "metadata": {},
   "outputs": [
    {
     "name": "stdout",
     "output_type": "stream",
     "text": [
      "              Year  original order\n",
      "count  5992.000000     5992.000000\n",
      "mean   1925.204606     2997.548899\n",
      "std     286.473712     1729.860210\n",
      "min       0.000000        2.000000\n",
      "25%    1942.000000     1499.750000\n",
      "50%    1975.000000     2997.500000\n",
      "75%    2003.000000     4495.250000\n",
      "max    2016.000000     5993.000000\n"
     ]
    },
    {
     "data": {
      "text/plain": [
       "'\\nbasic analysis of the numerical contents of the entire table --> USELESS\\n'"
      ]
     },
     "execution_count": 13,
     "metadata": {},
     "output_type": "execute_result"
    }
   ],
   "source": [
    "print(df.describe())\n",
    "\n",
    "\"\"\"\n",
    "basic analysis of the numerical contents of the entire table --> USELESS\n",
    "\"\"\""
   ]
  },
  {
   "cell_type": "code",
   "execution_count": 32,
   "metadata": {},
   "outputs": [
    {
     "data": {
      "text/plain": [
       "<matplotlib.axes._subplots.AxesSubplot at 0x11f1159e8>"
      ]
     },
     "execution_count": 32,
     "metadata": {},
     "output_type": "execute_result"
    },
    {
     "data": {
      "image/png": "[encoded data removed]",
      "text/plain": [
       "<Figure size 432x288 with 1 Axes>"
      ]
     },
     "metadata": {
      "needs_background": "light"
     },
     "output_type": "display_data"
    }
   ],
   "source": [
    "df.Type.value_counts().plot.bar()\n",
    "\"\"\"\n",
    "There are a few mistakes in this data. The background info from the Global Shark\n",
    "Attack File explains that the goal is to better understand these attacks\n",
    "and allow for a more peaceful cohabitation.\n",
    "The possible answers to this question should probably be Provoked/Unprovoked\n",
    "or stay empty in other cases\n",
    "\"\"\""
   ]
  },
  {
   "cell_type": "code",
   "execution_count": 124,
   "metadata": {},
   "outputs": [
    {
     "name": "stdout",
     "output_type": "stream",
     "text": [
      "AxesSubplot(0.125,0.125;0.775x0.755)\n"
     ]
    },
    {
     "data": {
      "image/png": "[encoded data removed]",
      "text/plain": [
       "<Figure size 432x288 with 1 Axes>"
      ]
     },
     "metadata": {
      "needs_background": "light"
     },
     "output_type": "display_data"
    }
   ],
   "source": [
    "df.Type=df.Type.str.replace(\"Invalid\",'')\n",
    "df.Type=df.Type.str.replace(\"Sea Disaster\",'')\n",
    "df.Type=df.Type.str.replace(\"Boat\",'')\n",
    "df.Type=df.Type.str.replace(\"Boating\",'')\n",
    "print(df.Type.value_counts().plot.bar())"
   ]
  },
  {
   "cell_type": "code",
   "execution_count": 125,
   "metadata": {},
   "outputs": [
    {
     "name": "stdout",
     "output_type": "stream",
     "text": [
      "AxesSubplot(0.125,0.125;0.775x0.755)\n"
     ]
    },
    {
     "data": {
      "image/png": "[encoded data removed]",
      "text/plain": [
       "<Figure size 432x288 with 1 Axes>"
      ]
     },
     "metadata": {
      "needs_background": "light"
     },
     "output_type": "display_data"
    }
   ],
   "source": [
    "\"\"\"\n",
    "Obviously I should have started with 'Boating' instead of 'Boat'\n",
    "I kept it this way in order to show my mistake. It can easily be corrected.\n",
    "After correcting, this column seems clean and usable.\n",
    "\"\"\"\n",
    "df.Type=df.Type.str.replace(\"ing\",'')\n",
    "print(df.Type.value_counts().plot.bar())"
   ]
  },
  {
   "cell_type": "code",
   "execution_count": null,
   "metadata": {},
   "outputs": [],
   "source": []
  },
  {
   "cell_type": "code",
   "execution_count": null,
   "metadata": {},
   "outputs": [],
   "source": [
    "# Homogenize column names"
   ]
  },
  {
   "cell_type": "code",
   "execution_count": null,
   "metadata": {},
   "outputs": [],
   "source": []
  },
  {
   "cell_type": "code",
   "execution_count": 115,
   "metadata": {},
   "outputs": [
    {
     "name": "stdout",
     "output_type": "stream",
     "text": [
      "Nb of duplicates dropped: 0\n"
     ]
    }
   ],
   "source": [
    "# Drop duplicates\n",
    "\n",
    "before=len(df)\n",
    "df=df.drop_duplicates()\n",
    "after=len(df)\n",
    "print(\"Nb of duplicates dropped:\", str(before-after))"
   ]
  },
  {
   "cell_type": "code",
   "execution_count": 21,
   "metadata": {},
   "outputs": [
    {
     "data": {
      "text/plain": [
       "Index(['Country', 'Area', 'Location', 'Activity', 'Name', 'Sex ', 'Age',\n",
       "       'Injury', 'Fatal (Y/N)', 'Time', 'Species ', 'Investigator or Source',\n",
       "       'href formula', 'href', 'Unnamed: 22', 'Unnamed: 23'],\n",
       "      dtype='object')"
      ]
     },
     "execution_count": 21,
     "metadata": {},
     "output_type": "execute_result"
    }
   ],
   "source": [
    "df.columns[df.isnull().sum()>0]\n",
    "\n",
    "\"\"\"\n",
    "Returns all column names where at least one line is empty\n",
    "\"\"\""
   ]
  },
  {
   "cell_type": "code",
   "execution_count": 25,
   "metadata": {},
   "outputs": [
    {
     "data": {
      "text/html": [
       "<div>\n",
       "<style scoped>\n",
       "    .dataframe tbody tr th:only-of-type {\n",
       "        vertical-align: middle;\n",
       "    }\n",
       "\n",
       "    .dataframe tbody tr th {\n",
       "        vertical-align: top;\n",
       "    }\n",
       "\n",
       "    .dataframe thead th {\n",
       "        text-align: right;\n",
       "    }\n",
       "</style>\n",
       "<table border=\"1\" class=\"dataframe\">\n",
       "  <thead>\n",
       "    <tr style=\"text-align: right;\">\n",
       "      <th></th>\n",
       "      <th>Case Number</th>\n",
       "      <th>Date</th>\n",
       "      <th>Year</th>\n",
       "      <th>Type</th>\n",
       "      <th>Country</th>\n",
       "      <th>Area</th>\n",
       "      <th>Location</th>\n",
       "      <th>Activity</th>\n",
       "      <th>Name</th>\n",
       "      <th>Sex</th>\n",
       "      <th>...</th>\n",
       "      <th>Species</th>\n",
       "      <th>Investigator or Source</th>\n",
       "      <th>pdf</th>\n",
       "      <th>href formula</th>\n",
       "      <th>href</th>\n",
       "      <th>Case Number.1</th>\n",
       "      <th>Case Number.2</th>\n",
       "      <th>original order</th>\n",
       "      <th>Unnamed: 22</th>\n",
       "      <th>Unnamed: 23</th>\n",
       "    </tr>\n",
       "  </thead>\n",
       "  <tbody>\n",
       "    <tr>\n",
       "      <th>0</th>\n",
       "      <td>False</td>\n",
       "      <td>False</td>\n",
       "      <td>False</td>\n",
       "      <td>False</td>\n",
       "      <td>False</td>\n",
       "      <td>False</td>\n",
       "      <td>False</td>\n",
       "      <td>False</td>\n",
       "      <td>False</td>\n",
       "      <td>False</td>\n",
       "      <td>...</td>\n",
       "      <td>True</td>\n",
       "      <td>False</td>\n",
       "      <td>False</td>\n",
       "      <td>False</td>\n",
       "      <td>False</td>\n",
       "      <td>False</td>\n",
       "      <td>False</td>\n",
       "      <td>False</td>\n",
       "      <td>True</td>\n",
       "      <td>True</td>\n",
       "    </tr>\n",
       "    <tr>\n",
       "      <th>1</th>\n",
       "      <td>False</td>\n",
       "      <td>False</td>\n",
       "      <td>False</td>\n",
       "      <td>False</td>\n",
       "      <td>False</td>\n",
       "      <td>False</td>\n",
       "      <td>False</td>\n",
       "      <td>False</td>\n",
       "      <td>False</td>\n",
       "      <td>False</td>\n",
       "      <td>...</td>\n",
       "      <td>True</td>\n",
       "      <td>False</td>\n",
       "      <td>False</td>\n",
       "      <td>False</td>\n",
       "      <td>False</td>\n",
       "      <td>False</td>\n",
       "      <td>False</td>\n",
       "      <td>False</td>\n",
       "      <td>True</td>\n",
       "      <td>True</td>\n",
       "    </tr>\n",
       "    <tr>\n",
       "      <th>2</th>\n",
       "      <td>False</td>\n",
       "      <td>False</td>\n",
       "      <td>False</td>\n",
       "      <td>False</td>\n",
       "      <td>False</td>\n",
       "      <td>False</td>\n",
       "      <td>False</td>\n",
       "      <td>False</td>\n",
       "      <td>False</td>\n",
       "      <td>False</td>\n",
       "      <td>...</td>\n",
       "      <td>True</td>\n",
       "      <td>False</td>\n",
       "      <td>False</td>\n",
       "      <td>False</td>\n",
       "      <td>False</td>\n",
       "      <td>False</td>\n",
       "      <td>False</td>\n",
       "      <td>False</td>\n",
       "      <td>True</td>\n",
       "      <td>True</td>\n",
       "    </tr>\n",
       "    <tr>\n",
       "      <th>3</th>\n",
       "      <td>False</td>\n",
       "      <td>False</td>\n",
       "      <td>False</td>\n",
       "      <td>False</td>\n",
       "      <td>False</td>\n",
       "      <td>False</td>\n",
       "      <td>False</td>\n",
       "      <td>False</td>\n",
       "      <td>False</td>\n",
       "      <td>False</td>\n",
       "      <td>...</td>\n",
       "      <td>True</td>\n",
       "      <td>False</td>\n",
       "      <td>False</td>\n",
       "      <td>False</td>\n",
       "      <td>False</td>\n",
       "      <td>False</td>\n",
       "      <td>False</td>\n",
       "      <td>False</td>\n",
       "      <td>True</td>\n",
       "      <td>True</td>\n",
       "    </tr>\n",
       "    <tr>\n",
       "      <th>4</th>\n",
       "      <td>False</td>\n",
       "      <td>False</td>\n",
       "      <td>False</td>\n",
       "      <td>False</td>\n",
       "      <td>False</td>\n",
       "      <td>False</td>\n",
       "      <td>False</td>\n",
       "      <td>False</td>\n",
       "      <td>False</td>\n",
       "      <td>False</td>\n",
       "      <td>...</td>\n",
       "      <td>False</td>\n",
       "      <td>False</td>\n",
       "      <td>False</td>\n",
       "      <td>False</td>\n",
       "      <td>False</td>\n",
       "      <td>False</td>\n",
       "      <td>False</td>\n",
       "      <td>False</td>\n",
       "      <td>True</td>\n",
       "      <td>True</td>\n",
       "    </tr>\n",
       "  </tbody>\n",
       "</table>\n",
       "<p>5 rows × 24 columns</p>\n",
       "</div>"
      ],
      "text/plain": [
       "   Case Number   Date   Year   Type  Country   Area  Location  Activity  \\\n",
       "0        False  False  False  False    False  False     False     False   \n",
       "1        False  False  False  False    False  False     False     False   \n",
       "2        False  False  False  False    False  False     False     False   \n",
       "3        False  False  False  False    False  False     False     False   \n",
       "4        False  False  False  False    False  False     False     False   \n",
       "\n",
       "    Name   Sex   ...  Species   Investigator or Source    pdf  href formula  \\\n",
       "0  False  False  ...      True                   False  False         False   \n",
       "1  False  False  ...      True                   False  False         False   \n",
       "2  False  False  ...      True                   False  False         False   \n",
       "3  False  False  ...      True                   False  False         False   \n",
       "4  False  False  ...     False                   False  False         False   \n",
       "\n",
       "    href  Case Number.1  Case Number.2  original order  Unnamed: 22  \\\n",
       "0  False          False          False           False         True   \n",
       "1  False          False          False           False         True   \n",
       "2  False          False          False           False         True   \n",
       "3  False          False          False           False         True   \n",
       "4  False          False          False           False         True   \n",
       "\n",
       "   Unnamed: 23  \n",
       "0         True  \n",
       "1         True  \n",
       "2         True  \n",
       "3         True  \n",
       "4         True  \n",
       "\n",
       "[5 rows x 24 columns]"
      ]
     },
     "execution_count": 25,
     "metadata": {},
     "output_type": "execute_result"
    }
   ],
   "source": [
    "df.isnull().head(5)\n",
    "\n",
    "\"\"\"\n",
    "Even though the Species colum seems often empty, it would probably be a mistake to discard it.\n",
    "It seems normal that the species would not always be identified.\n",
    "\"\"\""
   ]
  },
  {
   "cell_type": "code",
   "execution_count": 26,
   "metadata": {},
   "outputs": [
    {
     "data": {
      "text/plain": [
       "Case Number                  0\n",
       "Date                         0\n",
       "Year                         0\n",
       "Type                         0\n",
       "Country                     43\n",
       "Area                       402\n",
       "Location                   496\n",
       "Activity                   527\n",
       "Name                       200\n",
       "Sex                        567\n",
       "Age                       2681\n",
       "Injury                      27\n",
       "Fatal (Y/N)                 19\n",
       "Time                      3213\n",
       "Species                   2934\n",
       "Investigator or Source      15\n",
       "pdf                          0\n",
       "href formula                 1\n",
       "href                         3\n",
       "Case Number.1                0\n",
       "Case Number.2                0\n",
       "original order               0\n",
       "Unnamed: 22               5991\n",
       "Unnamed: 23               5990\n",
       "dtype: int64"
      ]
     },
     "execution_count": 26,
     "metadata": {},
     "output_type": "execute_result"
    }
   ],
   "source": [
    "df.isnull().sum()"
   ]
  },
  {
   "cell_type": "code",
   "execution_count": 116,
   "metadata": {},
   "outputs": [],
   "source": [
    "null_cols=df.isnull().sum()"
   ]
  },
  {
   "cell_type": "code",
   "execution_count": 126,
   "metadata": {},
   "outputs": [
    {
     "data": {
      "text/plain": [
       "Country                    0.72\n",
       "Area                       6.71\n",
       "Location                   8.28\n",
       "Activity                   8.80\n",
       "Name                       3.34\n",
       "Sex                        9.46\n",
       "Age                       44.74\n",
       "Injury                     0.45\n",
       "Fatal (Y/N)                0.32\n",
       "Time                      53.62\n",
       "Species                   48.97\n",
       "Investigator or Source     0.25\n",
       "href formula               0.02\n",
       "href                       0.05\n",
       "Unnamed: 22               99.98\n",
       "Unnamed: 23               99.97\n",
       "dtype: float64"
      ]
     },
     "execution_count": 126,
     "metadata": {},
     "output_type": "execute_result"
    }
   ],
   "source": [
    "drop_percentage=round(null_cols[null_cols>0]/df.shape[0]*100,2)\n",
    "drop_percentage"
   ]
  },
  {
   "cell_type": "code",
   "execution_count": 127,
   "metadata": {},
   "outputs": [
    {
     "data": {
      "text/plain": [
       "Index(['Time', 'Unnamed: 22', 'Unnamed: 23'], dtype='object')"
      ]
     },
     "execution_count": 127,
     "metadata": {},
     "output_type": "execute_result"
    }
   ],
   "source": [
    "drop_cols=drop_percentage[drop_percentage>50].index\n",
    "drop_cols"
   ]
  },
  {
   "cell_type": "code",
   "execution_count": 128,
   "metadata": {},
   "outputs": [
    {
     "name": "stdout",
     "output_type": "stream",
     "text": [
      "(5992, 21)\n"
     ]
    },
    {
     "data": {
      "text/plain": [
       "\"\\nWe can see that we dropped the 2 useless columns and the\\n'Time' column which was more than half-empty\\n\""
      ]
     },
     "execution_count": 128,
     "metadata": {},
     "output_type": "execute_result"
    }
   ],
   "source": [
    "df=df.drop(drop_cols,axis=1)\n",
    "print(df.shape)\n",
    "\"\"\"\n",
    "We can see that we dropped the 2 useless columns and the\n",
    "'Time' column which was more than half-empty\n",
    "\"\"\""
   ]
  },
  {
   "cell_type": "code",
   "execution_count": null,
   "metadata": {},
   "outputs": [],
   "source": [
    "\"\"\"\n",
    "We now try to check for incoherent values, through testing\n",
    "\"\"\"\n",
    "test=df[(df.???==0)&(df.???!=0)]\n",
    "test\n"
   ]
  },
  {
   "cell_type": "code",
   "execution_count": null,
   "metadata": {},
   "outputs": [],
   "source": []
  },
  {
   "cell_type": "code",
   "execution_count": null,
   "metadata": {},
   "outputs": [],
   "source": []
  },
  {
   "cell_type": "code",
   "execution_count": 102,
   "metadata": {},
   "outputs": [
    {
     "name": "stdout",
     "output_type": "stream",
     "text": [
      "[]\n"
     ]
    },
    {
     "data": {
      "text/plain": [
       "'\\nThis test does not show any obvious discrepancy in the data distribution\\n'"
      ]
     },
     "execution_count": 102,
     "metadata": {},
     "output_type": "execute_result"
    }
   ],
   "source": [
    "\"\"\"\n",
    "We now identify columns with low variance and understand whether it's normal or not\n",
    "\"\"\"\n",
    "low_variance=[]\n",
    "for col in df._get_numeric_data():\n",
    "    minimum=min(df[col])\n",
    "    ninety_perc=np.percentile(df[col],90)\n",
    "    if ninety_perc==minimum:\n",
    "        low_variance.append(col)\n",
    "    maximum=max(df[col])\n",
    "    tenth_perc=np.percentile(df[col],10)\n",
    "    if tenth_perc==minimum:\n",
    "        low_variance.append(col)\n",
    "print(low_variance)\n",
    "\"\"\"\n",
    "This test does not show any obvious discrepancy in the data distribution\n",
    "\"\"\""
   ]
  },
  {
   "cell_type": "code",
   "execution_count": null,
   "metadata": {},
   "outputs": [],
   "source": []
  },
  {
   "cell_type": "code",
   "execution_count": null,
   "metadata": {},
   "outputs": [],
   "source": [
    "\"\"\"\n",
    "Now we should try and detect outliers\n",
    "\"\"\""
   ]
  },
  {
   "cell_type": "code",
   "execution_count": 35,
   "metadata": {},
   "outputs": [
    {
     "ename": "KeyError",
     "evalue": "\"None of [Index(['Age'], dtype='object')] are in the [columns]\"",
     "output_type": "error",
     "traceback": [
      "\u001b[0;31m---------------------------------------------------------------------------\u001b[0m",
      "\u001b[0;31mKeyError\u001b[0m                                  Traceback (most recent call last)",
      "\u001b[0;32m<ipython-input-35-678882944a17>\u001b[0m in \u001b[0;36m<module>\u001b[0;34m\u001b[0m\n\u001b[0;32m----> 1\u001b[0;31m \u001b[0mdf\u001b[0m\u001b[0;34m.\u001b[0m\u001b[0mboxplot\u001b[0m\u001b[0;34m(\u001b[0m\u001b[0mcolumn\u001b[0m\u001b[0;34m=\u001b[0m\u001b[0;34m'Age'\u001b[0m\u001b[0;34m)\u001b[0m\u001b[0;34m\u001b[0m\u001b[0;34m\u001b[0m\u001b[0m\n\u001b[0m",
      "\u001b[0;32m/anaconda3/lib/python3.7/site-packages/pandas/plotting/_core.py\u001b[0m in \u001b[0;36mboxplot_frame\u001b[0;34m(self, column, by, ax, fontsize, rot, grid, figsize, layout, return_type, **kwds)\u001b[0m\n\u001b[1;32m   2252\u001b[0m     ax = boxplot(self, column=column, by=by, ax=ax, fontsize=fontsize,\n\u001b[1;32m   2253\u001b[0m                  \u001b[0mgrid\u001b[0m\u001b[0;34m=\u001b[0m\u001b[0mgrid\u001b[0m\u001b[0;34m,\u001b[0m \u001b[0mrot\u001b[0m\u001b[0;34m=\u001b[0m\u001b[0mrot\u001b[0m\u001b[0;34m,\u001b[0m \u001b[0mfigsize\u001b[0m\u001b[0;34m=\u001b[0m\u001b[0mfigsize\u001b[0m\u001b[0;34m,\u001b[0m \u001b[0mlayout\u001b[0m\u001b[0;34m=\u001b[0m\u001b[0mlayout\u001b[0m\u001b[0;34m,\u001b[0m\u001b[0;34m\u001b[0m\u001b[0;34m\u001b[0m\u001b[0m\n\u001b[0;32m-> 2254\u001b[0;31m                  return_type=return_type, **kwds)\n\u001b[0m\u001b[1;32m   2255\u001b[0m     \u001b[0mplt\u001b[0m\u001b[0;34m.\u001b[0m\u001b[0mdraw_if_interactive\u001b[0m\u001b[0;34m(\u001b[0m\u001b[0;34m)\u001b[0m\u001b[0;34m\u001b[0m\u001b[0;34m\u001b[0m\u001b[0m\n\u001b[1;32m   2256\u001b[0m     \u001b[0;32mreturn\u001b[0m \u001b[0max\u001b[0m\u001b[0;34m\u001b[0m\u001b[0;34m\u001b[0m\u001b[0m\n",
      "\u001b[0;32m/anaconda3/lib/python3.7/site-packages/pandas/plotting/_core.py\u001b[0m in \u001b[0;36mboxplot\u001b[0;34m(data, column, by, ax, fontsize, rot, grid, figsize, layout, return_type, **kwds)\u001b[0m\n\u001b[1;32m   2236\u001b[0m             \u001b[0mcolumns\u001b[0m \u001b[0;34m=\u001b[0m \u001b[0mdata\u001b[0m\u001b[0;34m.\u001b[0m\u001b[0mcolumns\u001b[0m\u001b[0;34m\u001b[0m\u001b[0;34m\u001b[0m\u001b[0m\n\u001b[1;32m   2237\u001b[0m         \u001b[0;32melse\u001b[0m\u001b[0;34m:\u001b[0m\u001b[0;34m\u001b[0m\u001b[0;34m\u001b[0m\u001b[0m\n\u001b[0;32m-> 2238\u001b[0;31m             \u001b[0mdata\u001b[0m \u001b[0;34m=\u001b[0m \u001b[0mdata\u001b[0m\u001b[0;34m[\u001b[0m\u001b[0mcolumns\u001b[0m\u001b[0;34m]\u001b[0m\u001b[0;34m\u001b[0m\u001b[0;34m\u001b[0m\u001b[0m\n\u001b[0m\u001b[1;32m   2239\u001b[0m \u001b[0;34m\u001b[0m\u001b[0m\n\u001b[1;32m   2240\u001b[0m         \u001b[0mresult\u001b[0m \u001b[0;34m=\u001b[0m \u001b[0mplot_group\u001b[0m\u001b[0;34m(\u001b[0m\u001b[0mcolumns\u001b[0m\u001b[0;34m,\u001b[0m \u001b[0mdata\u001b[0m\u001b[0;34m.\u001b[0m\u001b[0mvalues\u001b[0m\u001b[0;34m.\u001b[0m\u001b[0mT\u001b[0m\u001b[0;34m,\u001b[0m \u001b[0max\u001b[0m\u001b[0;34m)\u001b[0m\u001b[0;34m\u001b[0m\u001b[0;34m\u001b[0m\u001b[0m\n",
      "\u001b[0;32m/anaconda3/lib/python3.7/site-packages/pandas/core/frame.py\u001b[0m in \u001b[0;36m__getitem__\u001b[0;34m(self, key)\u001b[0m\n\u001b[1;32m   2932\u001b[0m                 \u001b[0mkey\u001b[0m \u001b[0;34m=\u001b[0m \u001b[0mlist\u001b[0m\u001b[0;34m(\u001b[0m\u001b[0mkey\u001b[0m\u001b[0;34m)\u001b[0m\u001b[0;34m\u001b[0m\u001b[0;34m\u001b[0m\u001b[0m\n\u001b[1;32m   2933\u001b[0m             indexer = self.loc._convert_to_indexer(key, axis=1,\n\u001b[0;32m-> 2934\u001b[0;31m                                                    raise_missing=True)\n\u001b[0m\u001b[1;32m   2935\u001b[0m \u001b[0;34m\u001b[0m\u001b[0m\n\u001b[1;32m   2936\u001b[0m         \u001b[0;31m# take() does not accept boolean indexers\u001b[0m\u001b[0;34m\u001b[0m\u001b[0;34m\u001b[0m\u001b[0;34m\u001b[0m\u001b[0m\n",
      "\u001b[0;32m/anaconda3/lib/python3.7/site-packages/pandas/core/indexing.py\u001b[0m in \u001b[0;36m_convert_to_indexer\u001b[0;34m(self, obj, axis, is_setter, raise_missing)\u001b[0m\n\u001b[1;32m   1352\u001b[0m                 kwargs = {'raise_missing': True if is_setter else\n\u001b[1;32m   1353\u001b[0m                           raise_missing}\n\u001b[0;32m-> 1354\u001b[0;31m                 \u001b[0;32mreturn\u001b[0m \u001b[0mself\u001b[0m\u001b[0;34m.\u001b[0m\u001b[0m_get_listlike_indexer\u001b[0m\u001b[0;34m(\u001b[0m\u001b[0mobj\u001b[0m\u001b[0;34m,\u001b[0m \u001b[0maxis\u001b[0m\u001b[0;34m,\u001b[0m \u001b[0;34m**\u001b[0m\u001b[0mkwargs\u001b[0m\u001b[0;34m)\u001b[0m\u001b[0;34m[\u001b[0m\u001b[0;36m1\u001b[0m\u001b[0;34m]\u001b[0m\u001b[0;34m\u001b[0m\u001b[0;34m\u001b[0m\u001b[0m\n\u001b[0m\u001b[1;32m   1355\u001b[0m         \u001b[0;32melse\u001b[0m\u001b[0;34m:\u001b[0m\u001b[0;34m\u001b[0m\u001b[0;34m\u001b[0m\u001b[0m\n\u001b[1;32m   1356\u001b[0m             \u001b[0;32mtry\u001b[0m\u001b[0;34m:\u001b[0m\u001b[0;34m\u001b[0m\u001b[0;34m\u001b[0m\u001b[0m\n",
      "\u001b[0;32m/anaconda3/lib/python3.7/site-packages/pandas/core/indexing.py\u001b[0m in \u001b[0;36m_get_listlike_indexer\u001b[0;34m(self, key, axis, raise_missing)\u001b[0m\n\u001b[1;32m   1159\u001b[0m         self._validate_read_indexer(keyarr, indexer,\n\u001b[1;32m   1160\u001b[0m                                     \u001b[0mo\u001b[0m\u001b[0;34m.\u001b[0m\u001b[0m_get_axis_number\u001b[0m\u001b[0;34m(\u001b[0m\u001b[0maxis\u001b[0m\u001b[0;34m)\u001b[0m\u001b[0;34m,\u001b[0m\u001b[0;34m\u001b[0m\u001b[0;34m\u001b[0m\u001b[0m\n\u001b[0;32m-> 1161\u001b[0;31m                                     raise_missing=raise_missing)\n\u001b[0m\u001b[1;32m   1162\u001b[0m         \u001b[0;32mreturn\u001b[0m \u001b[0mkeyarr\u001b[0m\u001b[0;34m,\u001b[0m \u001b[0mindexer\u001b[0m\u001b[0;34m\u001b[0m\u001b[0;34m\u001b[0m\u001b[0m\n\u001b[1;32m   1163\u001b[0m \u001b[0;34m\u001b[0m\u001b[0m\n",
      "\u001b[0;32m/anaconda3/lib/python3.7/site-packages/pandas/core/indexing.py\u001b[0m in \u001b[0;36m_validate_read_indexer\u001b[0;34m(self, key, indexer, axis, raise_missing)\u001b[0m\n\u001b[1;32m   1244\u001b[0m                 raise KeyError(\n\u001b[1;32m   1245\u001b[0m                     u\"None of [{key}] are in the [{axis}]\".format(\n\u001b[0;32m-> 1246\u001b[0;31m                         key=key, axis=self.obj._get_axis_name(axis)))\n\u001b[0m\u001b[1;32m   1247\u001b[0m \u001b[0;34m\u001b[0m\u001b[0m\n\u001b[1;32m   1248\u001b[0m             \u001b[0;31m# We (temporarily) allow for some missing keys with .loc, except in\u001b[0m\u001b[0;34m\u001b[0m\u001b[0;34m\u001b[0m\u001b[0;34m\u001b[0m\u001b[0m\n",
      "\u001b[0;31mKeyError\u001b[0m: \"None of [Index(['Age'], dtype='object')] are in the [columns]\""
     ]
    },
    {
     "data": {
      "image/png": "[encoded data removed]",
      "text/plain": [
       "<Figure size 432x288 with 1 Axes>"
      ]
     },
     "metadata": {
      "needs_background": "light"
     },
     "output_type": "display_data"
    }
   ],
   "source": [
    "df.boxplot(column='Age')\n",
    "\"\"\"\n",
    "This returns an error. This column should be cleaned and explored\n",
    "\"\"\""
   ]
  },
  {
   "cell_type": "code",
   "execution_count": 36,
   "metadata": {},
   "outputs": [
    {
     "name": "stdout",
     "output_type": "stream",
     "text": [
      "{nan, 'Teens', '47', '>50', '28 & 26', '31 or 33', '49', '67', '45', 'adult', '17 & 16', '9 & 12', '66', '3', '5', '58', '1', '55', '17', '20s', ' ', '20?', '23', '18 or 20', '65', '23 & 26', 'mid-20s', '? & 19', '20', '46', '52', '36 & 26', '13 or 18', 'Ca. 33', '6', '13', '13 or 14', '25', '32 & 30', '26', 'Teen', '61', '25 to 35', '77', '\"young\"', '48', '15', '11', '75', '31', '50s', '2�', '42', 'MAKE LINE GREEN', '60s', '62', '36', '21 & ?', '24', '19', '22', '33 or 37', '9 months', 'teen', '12 or 13', '10', '21, 34,24 & 35', '72', '56', 'Elderly', '71', '70', '86', '40', 'Both 11', '30', '7 or 8', '50', '  ', '21', '38', '30 & 32', '50 & 30', '18 to 22', '10 or 12', '� ', '63', '27', '33 & 26', '68', '16 to 18', '32', '51', '41', '18 months', 'F', '18', \"60's\", '59', '43', '40s', '28, 23 & 30', '8 or 10', '46 & 34', '33', '9 or 10', '?    &   14', '87', '39', '84', '37, 67, 35, 27,  ? & 27', 'X', '54', '2 to 3 months', 'young', '7      &    31', '34', '25 or 28', '(adult)', '12', '69', '30 or 36', '64', '9', '21 or 26', '53', '73', '78', '8', '74', '\"middle-age\"', '29', '35', '28', '23 & 20', '81', '60', '14', '17 & 35', '7', '34 & 19', '6�', '36 & 23', '44', 'mid-30s', 'M', '37', '57', '33 & 37', '16', 'A.M.', '30s'}\n"
     ]
    }
   ],
   "source": [
    "print(set(df.Age))"
   ]
  },
  {
   "cell_type": "code",
   "execution_count": 38,
   "metadata": {},
   "outputs": [
    {
     "name": "stdout",
     "output_type": "stream",
     "text": [
      "{nan, 'Teens', '47', '>50', '28 & 26', '31 or 33', '49', '67', '45', 'adult', 'mid-35', '17 & 16', '9 & 12', '66', '3', '5', '58', '1', '55', '17', ' ', '20?', '23', '18 or 20', '65', '23 & 26', '? & 19', '20', '46', '52', '36 & 26', '13 or 18', 'Ca. 33', '6', '13', '13 or 14', '25', '32 & 30', '26', 'Teen', '61', '25 to 35', '77', '\"young\"', '48', '15', '11', '75', '31', '2�', '42', 'MAKE LINE GREEN', '62', '36', '21 & ?', '24', '19', '22', '33 or 37', '9 months', 'teen', '12 or 13', '10', '21, 34,24 & 35', '72', '56', 'Elderly', '71', '70', '86', '40', 'Both 11', '30', '7 or 8', '50', '  ', '21', '38', '30 & 32', '50 & 30', '18 to 22', '10 or 12', '� ', '63', '27', '33 & 26', '68', '16 to 18', '32', '51', '41', '18 months', 'F', '18', \"60's\", '59', '43', '28, 23 & 30', '8 or 10', '46 & 34', '33', '9 or 10', '?    &   14', '87', '39', '84', '37, 67, 35, 27,  ? & 27', 'X', '54', '2 to 3 months', 'young', '7      &    31', '34', '25 or 28', '(adult)', '12', '69', '30 or 36', '64', '9', '21 or 26', '53', '73', '78', '8', '74', '\"middle-age\"', '29', '35', '28', '23 & 20', '81', '60', '14', 'mid-25', '17 & 35', '7', '34 & 19', '6�', '36 & 23', '44', 'M', '37', '57', '33 & 37', '16', 'A.M.'}\n"
     ]
    }
   ],
   "source": [
    "\"\"\"\n",
    "We can replace some of this data by an average, for instance 50's by 55\n",
    "\"\"\"\n",
    "df.Age=df.Age.str.replace('0s','5')\n",
    "print(set(df.Age))"
   ]
  },
  {
   "cell_type": "code",
   "execution_count": 39,
   "metadata": {},
   "outputs": [
    {
     "name": "stdout",
     "output_type": "stream",
     "text": [
      "{nan, 'Teens', '47', '>50', '28 & 26', '31 or 33', '49', '67', '45', 'adult', 'mid-35', '17 & 16', '9 & 12', '66', '3', '5', '58', '1', '55', '17', ' ', '20?', '23', '18 or 20', '65', '23 & 26', '? & 19', '20', '46', '52', '36 & 26', '13 or 18', 'Ca. 33', '6', '13', '13 or 14', '25', '32 & 30', '26', 'Teen', '61', '25 to 35', '77', '\"young\"', '48', '15', '11', '75', '31', '2�', '42', 'MAKE LINE GREEN', '62', '36', '21 & ?', '24', '19', '22', '33 or 37', '9 months', 'teen', '12 or 13', '10', '21, 34,24 & 35', '72', '56', 'Elderly', '71', '70', '86', '40', 'Both 11', '30', '7 or 8', '50', '  ', '21', '38', '30 & 32', '50 & 30', '18 to 22', '10 or 12', '� ', '63', '27', '33 & 26', '68', '16 to 18', '32', '51', '41', '18 months', 'F', '18', '59', '43', '28, 23 & 30', '8 or 10', '46 & 34', '33', '9 or 10', '?    &   14', '87', '39', '84', '37, 67, 35, 27,  ? & 27', 'X', '54', '2 to 3 months', 'young', '7      &    31', '34', '25 or 28', '(adult)', '12', '69', '30 or 36', '64', '9', '21 or 26', '53', '73', '78', '8', '74', '\"middle-age\"', '29', '35', '28', '23 & 20', '81', '60', '14', 'mid-25', '17 & 35', '7', '34 & 19', '6�', '36 & 23', '44', 'M', '37', '57', '33 & 37', '16', 'A.M.'}\n"
     ]
    }
   ],
   "source": [
    "df.Age=df.Age.str.replace(\"0's\",'5')\n",
    "print(set(df.Age))"
   ]
  },
  {
   "cell_type": "code",
   "execution_count": null,
   "metadata": {},
   "outputs": [],
   "source": [
    "\"\"\"\n",
    "Maybe use RegEx?\n",
    "\"\"\"\n",
    "# re.sub(r'\\w+','dog' 'Words, words, words.')"
   ]
  },
  {
   "cell_type": "code",
   "execution_count": 41,
   "metadata": {},
   "outputs": [
    {
     "data": {
      "text/plain": [
       "0       True\n",
       "1       True\n",
       "2       True\n",
       "3        NaN\n",
       "4        NaN\n",
       "5        NaN\n",
       "6       True\n",
       "7       True\n",
       "8       True\n",
       "9       True\n",
       "10       NaN\n",
       "11      True\n",
       "12      True\n",
       "13      True\n",
       "14      True\n",
       "15      True\n",
       "16      True\n",
       "17      True\n",
       "18      True\n",
       "19      True\n",
       "20      True\n",
       "21      True\n",
       "22       NaN\n",
       "23      True\n",
       "24      True\n",
       "25      True\n",
       "26      True\n",
       "27       NaN\n",
       "28      True\n",
       "29       NaN\n",
       "        ... \n",
       "5962     NaN\n",
       "5963     NaN\n",
       "5964     NaN\n",
       "5965     NaN\n",
       "5966    True\n",
       "5967     NaN\n",
       "5968     NaN\n",
       "5969     NaN\n",
       "5970     NaN\n",
       "5971     NaN\n",
       "5972     NaN\n",
       "5973     NaN\n",
       "5974     NaN\n",
       "5975     NaN\n",
       "5976     NaN\n",
       "5977     NaN\n",
       "5978     NaN\n",
       "5979     NaN\n",
       "5980     NaN\n",
       "5981     NaN\n",
       "5982     NaN\n",
       "5983     NaN\n",
       "5984     NaN\n",
       "5985     NaN\n",
       "5986     NaN\n",
       "5987     NaN\n",
       "5988     NaN\n",
       "5989     NaN\n",
       "5990     NaN\n",
       "5991    True\n",
       "Name: Age, Length: 5992, dtype: object"
      ]
     },
     "execution_count": 41,
     "metadata": {},
     "output_type": "execute_result"
    }
   ],
   "source": [
    "\"\"\"\n",
    "It could be simpler to discard all lines which do not contain a numerical value.\n",
    "However let's first identify the lines with a string made of numeric values.\n",
    "Then we should convert those values to an integer format.\n",
    "\"\"\"\n",
    "#df=df[df.Age.str.isnumeric()]\n",
    "df.Age.str.isnumeric()"
   ]
  },
  {
   "cell_type": "code",
   "execution_count": 129,
   "metadata": {},
   "outputs": [
    {
     "data": {
      "text/plain": [
       "(5992, 20)"
      ]
     },
     "execution_count": 129,
     "metadata": {},
     "output_type": "execute_result"
    }
   ],
   "source": [
    "\"\"\"\n",
    "Since 45% of this column is empty and the remaining 55% contain many heterogenous formats,\n",
    "it seems reasonnable to drop this column.\n",
    "\"\"\"\n",
    "df=df.drop('Age',axis=1)\n",
    "df.shape"
   ]
  },
  {
   "cell_type": "code",
   "execution_count": 56,
   "metadata": {},
   "outputs": [
    {
     "name": "stdout",
     "output_type": "stream",
     "text": [
      "{nan, '', 'Shark fishing on the Ricardo Astorga', 'Surfing / Wading', 'Fishing / washing bait off hands', 'The MV Dona Marilyn sank in Typhoon Unsang with the loss of 389 lives', 'Playing in the surf with his 2 dogs', 'Spearfishing, but standing in knee-deep water', 'Surfing, but treading water', 'Sea Disaster, sinking of the fishing  launch Mavis', 'Spearfishing, dived to pick up a float line', 'Kiteboarding', 'boat from the Austrian ship Elizabeth', 'Aircaft exploded', 'Netting menhaden, sharks caught in net', 'Paddling on kneeboard', 'Tagging sharks', 'Murder victim', 'Overturned skiff', 'He drowned when boat capsized', 'Standing in water with child in her arms', 'Five men on makeshift raft after their 10 m fishing boat  capsized and sank in rough seas. Survivors rescued after  7.5 hours in the water', 'Fell overboard  from the Taiwanese fishing trawler Lien Cheng Feu', 'Boating', '14 m prawn trawler New Venture capsized  & sank in heavy seas Three people in the water', 'Removing shark from a trap', 'Traveling by boat', 'Crossing the river', \"Crouching in 2' of water\", 'Swimming alongside NOAA research vessel Discoverer', 'Abandoning burning ship Captain George in raging seas', '25-foot cabin cruiser Happy Jack sank in heavy seas', 'Surfing amid a shoal of sharks', 'Playing', 'Fishing for basking sharks', 'Fishing, speared shark upset canoe & man fell in water', 'Boogie boarding / wading', 'Fishing from paddleski', 'Standing on his hands', 'Swimming from naptha launch after a day of fishing', 'Testing anti-shark cage', 'Wrangling a shark', 'Swimming (recovering remains of Stilwell)', 'Portuguese seaman fell overboard. Boat lowered to pick up with 1st mate & 4 crew, but done hurriedly & all were thrown into the water. As a second boat was lowered, a shark went after the 1st mate but he was rescued. Then the shark went after Mr. Andrews', 'Stuffing a shark into an automobile', 'Fishing for tuna', 'Canoe swamped', 'Scuba diving & feeding fish', 'Fishing', 'Surfing & dangling foot in water amid baitfish', 'The passenger ship Kapuna was run down the ore carrier Ada Melmore', 'boat capsized', 'Fishing for snoek & yellowtail', 'Shark diving', 'Standing alongside surfboard', 'Bathing with her mother', 'Trying to catch a wounded bird', 'Gaffing netted shark', 'Diving?', 'Swimming / Body Surfing', 'Swimming outside fishing net', 'Shipwrecked Persian Fleet', \"Accidentally stood on hooked shark's tail before attempting to gut it\", 'Swimming, poaching perlemoen', 'Swimming breast stoke', 'Spearfishing, but swimming on surface', 'Standing in chest-deep water', 'Spearing a shark', 'Wading in school of baitfish', 'Washed overboard into school of fish', 'Greek steamship Lakonia caught fire, 98 of her 646 passengers, and 30 of her crew of 376 perished', 'Board sailing', 'Surfing (pneumatic surfboard)', 'Swimming, towing the shark', 'Fishing in Alabama Deep Fishing Rodeo', 'Refused permission to cross on the ferry, he was swimming across the river', 'Swimming in hip-deep water', 'Sinking of the M/V Mindoro during a typhoon', 'Boat stopped to repair electric pump', 'The shrimper Loless Maurine capsized in heavy seas & the men were swimming ashore', 'Swimming, after falling off towed kneeboard', 'Fishing (big game)', 'Fell from cliff while fishing & disappeared in strong current', 'Fishing, probably with a net', 'Boeing 757 enroute from Porta Plata plunged into the sea', 'Swimming, attacked at  surf carnival', 'On expedition filming a feature movie & standing on tripod', 'Wreck of the Sovereign', 'Scuba diving (submerged riding a scooter)', 'Fishing from boat, Kaimamla', \"A man's head found in a shark caught by British steamer Syria\", 'Wreck of the steamship Birkenhead', 'Playing in knee-deep water', 'USS Johnston DD 557 sunk on 10/24/1944 in the Battle off Samara. Crewmen were swimming beside a raft', 'Sitting in a boat', 'Playing with a frisbee in the shallows', 'Netting sharks', 'Floating on his back in an inner tube', 'Standing, holding shark pup', 'Swimming (lead swimmer in race)', 'Snorkeling', 'Surfing on \"chest board\" (boogie board?)', 'Photographing the shark', 'Floating, holding onto an oar after dory capsized', 'Diving for sponges', 'Swimming after being washed overboard', 'Scuba diving for bivalves', 'Wading (shrimping)', 'Floating on inner tube after diving for lobster', 'Swimming back from anchored sailboat', 'Scuba diving at seal colony', 'Adrift on raft', 'Swimming / floating on his back', 'Japanese aircraft shot down. He was one of two survivors rescued by the U.S. destroyer Mugford', 'Chasing shark out of bathing area while riding on a surf-ski', 'Boat capsized, swimming to shore', 'Playing on rock, slipped & fell into the water', 'Fishing for shrimp', 'Surf bathing', 'Scuba diving (submerged)', 'Surfing / treading water', 'Canoe capsized by shark', 'Washing clothes on stairs', 'Swimming vigorously', 'Fishing, setting nets', 'On a float', '2 messboys (Jeppsen) & Tony Latona (13) were playing on the afterdeck of the Danish ship Grete Maersk. Jeppsen fell overboard, Latona threw a lifebelt then jumped in to help him. Ship didn�t notice they were missing', 'Diving for beche-de-mer', 'Riding horseback across the creek', 'Hand lining for shad', 'yachting accident', 'Lobster diving using Scuba', 'Ship Mariston torpedoed & sunk', 'Resting on surfboard', 'Fishing from prawn trawler', 'Dived for a coin', 'Free diving for abalone (ascending)', 'Scuba diving for abalone', 'Wading to dinghy, carrying his son', 'Fishing, wading with string of fish', 'Floating on air mattress', 'Bathing in waist-deep water', 'Shell Diving', 'Photographing fish', 'Dived into the water', 'Wreck of the 1308-ton Norwegian ship Auckland', 'Diving for lobsters', 'Washing a dog', 'Moving shark from tuna vessel when boat rolled, placing both man & shark in chest-deep water', 'Paddling on surfboard or body board', 'The 21,516-ton troopship Empress of Canada torpedoed and sunk by the Italian submarine Leonardo da Vinci', 'Working near fish traps', 'Free diving, collecting sand dollars', 'Lying on surfboard', 'Floating in inner tube', 'Had just dived into water & was swimming', \"Swimming near jetty with 2' piece of wood\", 'Scuba diving for abalone (at surface)', 'Fishing, sitting in stern of small boat, feet dangling in the water', 'Japanese freighter Bokuyo Maru burned & sank', \"Diving to untangle a crab trap line from boat's propeller\", 'Lifeboat capsized', 'Diving for trochus', 'Diving / Kissing the shark', 'Crayfishing', 'Fishing,  tarpon being chased by shark  leapt across his skiff, breaking it in half & Larkin became tangled in the net', 'Fishing from dory, shark upset boat & he fell into the water', 'Speared a grouper, saw shark but it came for him instead of the fish so he fired spear into shark�s mouth. Then shark took grouper but unable to swallow because of the spear in its mouth', \"Sitting in 3' of water\", 'Swimming with mask & snorkel', 'Paddling outrigger canoe', 'Standing / Snorkeling', 'Diving for sea urchins', 'Playing volleyball with friends', 'Hookah diving for abalone', 'Washed overboard', 'Snorkeling � hunting crayfish and abalone', 'Spearfishing using scuba', 'Swimming, after single-engine aircraft went down in the sea', 'Sitting in the water', 'Spearfishing, pulled shark�s tail', 'Boogie boarding', 'Windsurfing (urinating on his board)', 'B-24 crashed during a search mission. Survivors in raft for 47 days', 'Hiking on the beach', 'Snorkeling (filming the sardine run)', 'native boats sunk in storm', 'Steamer Durao struck rock & filled, boats capsized, passengers & crew tried to swim to shore', 'Surf fishing, wading', 'Playing soccer in the water', 'Swimming. Passer-by, Len Bedford, heard him shriek , saw shark leap from the water & swimmer disappeared', 'Attempting to Kite surf from Egypt to Saudi Arabia', 'Clamming', 'Hunting sharks', 'Playing in the surf', 'Fishing, thrown into water by heavy sea, clinging to rocks at the water line', 'Swimming near shore', 'Walking in surf', 'Helping angler land a shark', 'Helping friend land hooked shark', \"Pushed surfmat of a young girl out of the shark's path, drawing shark's attention to his own board\", 'Wreck of the schooner Driver', 'Fishing, on charter boat Silver Dollar', 'Probabable drowning', 'Surfing, paddling seawards', 'Wreck of the tug Magellan', 'Rowing a dinghy', 'Known as The Battle of the Bismarck Sea :  8 Japanese destroyers guarding a convoy of 8 transports were attacked by 129 Allied fighters, 207 bombers & 3 squadrons of the Royal Australian Air Force', 'Fishing for white shark', 'Fishing, Struck by another shark when removing shark from line', 'The 426-ton cargo ship Mia, laden with cement, capsized in heavy seas', 'Reviving a sedated shark', 'Preparing to fish for jack-mackerel', 'Fishing for snappers & cleaning mullet. Put mullet over side of boat to wash it', 'Examining netted shark, that had been shot', 'Surf-skiing', 'Pearl diving', 'Shipwrecked; adrift on raft for 2 days & 2 nights', 'In waist-deep water', 'Fishing, hauling in a 5-lb snapper', 'Swimming a quarter mile offshore', 'Swimming / escaping imprisonment', 'Anti-sabotage night dive exercise alongside destroyer (Scuba diving)', 'Fishing for bluefish', 'Fishing for perch', 'Thrashing the water / imitating the shark victim from \"Jaws', 'Racing ski', 'Diving for coins tossed from passenger ship', 'Diving off jetty', 'Playing / standing', 'Pulling hooked salmon to boat', 'Crossing the bay at the ford', 'Free diving or wading back to shore', 'Wading / fishing & carrying a bag of fish', 'The Christie V sank on 11/6/1988, survivors were adrift on a dinghy', 'Swimming with speared fish', 'Body Boarding', 'Fishing for bottom fish', 'Collecting aquarium specimens', 'Riding floatation device', 'Collecting beche-de-mer', 'Diving for crayfish', 'The 6015-ton British ship Empire Avocet was torpedoed by the German submarine U-125', 'Free diving for trochus shell, swimming to dinghy', 'H.M.S. Cornwall & H.M.S.Dorsetshire sunk by Japanese dive bombers. Officers & men in the water formed a circle with 60 of their dead in the center for 36 hours', \"Captured Allied soldiers were squeezed into 3' bamboo pig baskets & fed to waiting sharks\", 'Boat capsized, swimming ashore', 'Knocked overboard', 'Standing, stepped on shark', 'Boat capsized', 'Cargo ship Dara sank after collision with another ship during a severe storm', 'Fell overboard from the Malacca', 'Swimming', 'Spearfishing, but walking carrying fish on end of speargun', 'Beach seine netting', 'Ran into the water', 'Trailing the field in a surf race', 'Swimming out to porpoises', 'Swimming along a row of nets', 'The 168-ton Belmore foundered in heavy seas', 'Knocked into the water', 'The schooner Tahitienne foundered in a hurricane', 'Surfing on air mattress', 'Aircraft crashed into sea', 'Body surfing, stood up on sandbar', 'Collecting crayfish', 'Collecting fish', 'Snorkeling, carrying a speared fish in her hand', 'Boat', 'Boogie boarding or Surfing', 'Flying Tiger\" transport plane went down with 5 men onboard', 'Air Disaster', 'Swimming or wading out  to warn bathers that a shark had been seen', 'Spearfishing / Free diving', 'Went to aid of child being menaced by the shark', 'Paddle boarding', 'Fishing for kob', 'Columbian petrol barge Rio Atrato burned and sank', 'Diving in tuna net', \"Adrift, hanging onto cushion, after his 17' skiff ran out of gas & capsized 3 miles from shore\", 'Catching a turtle', 'Wading, knocked down & swept away by large waves', 'Swimming after his hat', 'Spearfishing, Scuba diving', 'Hospital Ship Centaur torpedoed & sunk by the Japanese submarine I-177', 'Fishing for squid', 'Shark Fishing', 'Diving, attempting to retrieve body of drowning victim wedged between rocks', 'Hand feeding sharks', 'USS Hoel DD 533 sunk on 10/24/1944 in the Battle off Samar. 2 crewmen were swimmng alongside a floater net &', 'Fell overboard from US Navy PC boat', 'Swimming near pier', 'Jumped overboard to rescue a man', '3,909-ton Panamanian freighter Chieh Lee sank in a typhoon', 'Reported swept away by waves while gathering opihi', 'Cutter capsized', 'Dangling feet in the water', 'Went over side of boat at trochus ground', 'Defecating in water beneath the docks', 'Jumped into the water', 'Snorkeling, possibly holding a fish', 'Fishing, standing in water washing fish', 'Jumping in swells', 'Swimming near anchored ship', 'Drift fishing', \"16' catamaran capsized previous night, occupants stayed with wreckage until morning, then attempted to swim ashore\", 'Sunbathing on beach when he saw child being attacked by the shark', 'Wading?', 'Attaching a line at sea', 'Filming a documentary', 'Spearfishing, but standing in the water', 'Scallop diving (using surface-supplied air & a POD)', 'Sinking of the ferryboat Dumaguete', 'Hard hat diving, laying some charge of powder', 'Fishing for turtles', 'Sinking of the cargo ship Mark Jason', 'Fishing boat with 4 men on board was rammed & capsized by  a shark, throwing all occupants into the water', 'Swimming, naked', 'Standing in knee-deep water', 'Filming underwater, carrying powerhead', 'Dog paddling or standing', 'Jet skiing', 'Crabbing (spearing crabs)', 'Swimming from shore to anchored sailboat', 'Sea Disaster', 'Attempting to set underwater endurance record', 'Diving on a wreck', 'Wading after stray fish from seine netter�s catch', 'Moving a shark in a net', 'Free diving for abalone (submerged)', 'Fell overboard & swimming', 'A barque wrecked', 'Fishing with a cast net', 'Kite Surfing', 'Rowing toward snapper grounds', 'Fishing, removing the shark from his line', 'Floating face down', 'Fell from wharf into water & attacked immediately', 'boat from City of Naples capsized', 'Kite-Boarding', 'Jumped overboard while intoxicated', 'Salvaging a shipwreck', 'Free-diving', 'Removing shark from tank in nightclub', 'Adrift on a raft', 'Fishing (rod & line)', 'Chumming for white sharks', 'Commercial diver (submerged or treading water)', 'Landing hooked shark in boat', 'Splashing / wading', 'Conducting research', 'Diving for beche-de-mer from lugger', 'Kayak fishing', 'Floating in tube', 'Dived from inner-tube', 'Collecting dynamited fish', 'Swimming from fishing boat setting nets', 'U.S. Airforce C124 enroute from Hickham Air Base to Japan went down. The 3 survivors fashioned raft from mailbags  & were rescued 3 days after the crash', 'Shark fishing, knocked overboard', 'The boat Caribou II sank', 'Wreck of the 150-ton brig Maria', 'Surfing, lying on surfboard', 'Swimming / treading water', 'Surf skiing', 'Hooking into a whale', \"Fell from his father's back into the water\", 'Rowing', '90 European civilians, many women & children, were placed on the deck of a Japanese submarine that submerged when it was well offshore', 'Surfing (lying prone on his board)', 'Shark tagging', 'The 6711-ton American freighter & troop transport Cape San Juan was torpedoed by the Japanese submarine I-21', 'Fell into water while attempting to boat a swordfish', 'Clinging to overturned rowing boat', 'Diving', 'Spearfishing / free diving', 'Air disaster: crash of Air France Super Constellation', 'Fishing boat', 'Fishing boat capsized', 'After rowing skiff was holed by shark, he was attempting to swim ashore', 'Fishing for bluefish, shark leapt into dory', 'Swimming 3 miles offshore', '1446-ton Norwegian barque Errol, bound from Peru to Newcastle with 22 on board wrecked. Survivors shelterd on the wreck of the Annasona. Subsequently the Master, his wife & 4 children perished along with several crew. Survivors (5) were rescued 7/12/1909', 'Fishing from a kayak', 'Unknown', 'Fleeing across a river', 'Ferry boat sank', 'cargo ship Southern Isle sank at 04h00', 'Floating in creek', 'Paddle-surfing', 'Washing cooking pans', 'Free diving & spearfishing (descending)', 'Spent 8 days in dinghy', 'Escaping from Alacatraz', \"During a shark fishing tournament, the 18' Boatem was capsized by waves, throwing 3 men into the water\", 'Swimming after falling overboard', 'Freedom Swimming', 'Scuba diving & U/W photography', 'Surf fishing', 'Fishing, fell in water & swimming strongly to shore', 'Standing, collecting bananas', 'S.S. Ramos foundered in a hurricane. Captain & 14 crew in water-logged lifeboats', 'Walking on reef', 'Swept out to sea while fishing', 'Diving alongsidethe steamship Ranelagh', 'Scuba diving, reportedly also spearfishing', 'Floating near boat & observing bioluminesce', 'Leaving the water', 'Dragging stranded shark into deeper water', 'Free diving with goggles', 'Clinging to shipwrecked junk', 'Touching sharks', \"Competing in U/W endurance record, standing beside drum in 10' of water\", 'Fishing, one of three fishermen swept into the sea by a large wave', 'Fishing, tossing netted shark onboard', 'Standing / Surfing', 'Bathing', 'Treading water', 'Sitting on surfboard', 'Spearfishing, carrying fish on spear', 'Flying Fortress bomber aircraft went down after daytime raid on Naples. He was swimming on the surface', 'Standing, collecting sea stars', 'USS Gambier Bay CVE-73  shelled & sunk  at 09h57 on 10/24/1944, by Japanes fleet enroute to attack the Allied landing force at Leyte', 'Row boat (from the gunboat Elcano) was sinking, put finger in hole', 'Scuba diving', 'Shark hoisted on board liner Tahiti', 'Kite surfing', 'Swimming alongside yacht Mexico Fiesta', 'Spearfishing (free diving)', 'Net-fishing', 'Splashing in surf', \"Sinking of the 40' Esperanza off St. Maartin with 36 refugees on board\", 'Wading, when he stepped on the shark', 'Diving, recovering fish killed by dynamite', 'Fishing with dynamite', 'Free diving for lobster', 'Dragging stranded shark ashore', 'Scuba Diving for lobster (at surface)', 'Fell oveboard from steamer Wanderer', 'Diving (shell maintenance)', 'A group of survivors on a raft for 17-days', 'Air Disaster - Piper aircraft crashed into the sea, killing all on board', 'Ferry capsized', 'Motor boat Rebel Belle lost', 'Competing in a light tackle game fishing', 'Fishing boat swamped in a storm', 'Swimming ashore from capsized boat', 'Went overboard', 'Italian liner Principessa Mafalda sank', 'Cleaning fish', 'Floating on a raft', 'Spearfishing / freediving', 'Playing with an air mattress', 'Swimming 10 m from shore', 'B-24 aircraft crashed  into the sea', 'Surf paddling', 'Schooner sank during a storm', 'Fell overboard from SS Ripley Castle', 'Chumming for sharks', 'Freediving for seashells', 'Walking in chest-deep water', 'Dived naked into the water on a bet', 'He was fighting a shark when his boat capsized & he disappeared', 'Washing his pig in preparation for a religious ceremony', 'Diving, retrieving film package from Titan 3C rocket', 'Ejected from F3H-2 aircraft', 'Sitting in shallows', 'Swimming from capsized pirogue', 'Sitting on gunwale of boat', 'Standing on sandbar', 'When  a deckhand  jumped overboard, McIver dived after him with a rescue line', 'Feeding a shark', 'On boat, preparing to dive', 'Tech diving', 'Two canoes with 14 aboard blown to sea in a storm. While adrift for 3 week, one person fell overboard and was killed by a shark', 'In deep water about 100 yards from his ship', \"Filming 5' blue shark\", 'Swimming or boogie boarding', 'Fishing, holding fish', 'Free diving / spearfishing,', 'Diving for trepang', 'Sitting on side of dinghy mending a net', 'The Dwarka foundered', 'Wreck of the schooner Pohoiki', 'Body boarding', 'Their 9 m launch was run down by a 25,000-ton Japanese freighter  on the night of 3-11-1977 & they drifted, clinging to an icebox for 2 days', 'Pulling shark from the water', 'boat with 46 people on board capsized', 'Lashing logs together when he fell into the water', 'Treading water, waiting for a wave', 'Swimming ashore from swamped 13-ft boat', 'ship William Penn grounded & broke apart', 'Fell off surf ski', 'Sea Disaster Sinking of ferryboat Christina', 'Dismantling cable buoys of the cable ship All America', 'Fishing from Surfboard', 'Helping men land a shark', 'Small boat swamped, 4  people swimming to shore but he fell behind the other 3 and vanished', 'Body surfing', 'Ditched aircraft, 3 men in the water. Swam for 31 hours', 'Ship lay at anchor & man was working on its rudder', 'SCUBA Diving', 'Fishing for whiting', 'Free diving for abalone (surfacing)', 'Free diving for shell', 'Swimming with dog near canning factory', \"On board 51' fishing vessel One Ki\", 'Kayak Fishing', 'Free diving for molluscs', 'Swimming to mail boat', 'Pearl diving from lugger Whyalla', 'Vehicle plunged over cliff into the water', 'Wading with surfboard', 'Suicide', 'Fishing for lobsters', 'Feeding mullet to sharks', 'Cleaning a tank', 'Wading, fishing for flounder', 'Shell diving', 'Thrown overboard', 'Placed hand in disemboweled shark�s jaws', 'Fishing, casting in the surf', 'Splashing', 'Kite boarding', 'Swimming near pod of whales', 'Swimming around anchored ship', 'Yacht of Michael Howell capsized', 'bathing', 'Swimming or surfing', 'Fishing from surf ski', \"Boat capsized between O'ahu & Molokai\", 'Splashing in water', 'Riding waves on a board', 'Surf-fishing', 'Attempting to drive shark away from sailing regatta', 'Abandoning burning steamship Don Juan', 'Esso Bolivar was torpedoed & shelled by the German submarine U-126', 'Swimming, attempting to rescue a girl  believed to be drowning', 'Vessel capsized, wading ashore carrying an oar', 'Fishing (trolling)', 'Murder', 'The 3540-ton Alfonso Penna was torpedoed & sunk by the Italian submarine Barbarigo', 'Diving off pier & treading water', 'Swimming/', 'U-177 torpedoed & sank the troopship Nova Scotia', 'Standing, watching seine netters', 'Japanese POW ship Arisan Maru with 1800 American prisoners of war on board bound for slave labor camps was torpedoed by an American submarine', 'Spearfishing, speared fish retreated to cave where shark grabbed his arm', 'Fishing from launch, fell into net with shark', 'Boogie Boarding', 'Launching rowboat through the surf', 'Standing on sandbank', 'Jumped overboard and swimming', 'Floating on an inflatable raft', 'Attempting to rescue a shark', 'yachtsman in a zodiac', 'Swimming to shore from the Medic', 'Hookah diving for abalone (descending)', 'Sleeping in anchored boat', 'Catching sardines', 'Swimming underneath house on pilings', 'Fishing for trout', \"Attempting to lasso shark's tail\", 'Swimming in waist-deep water', 'Fell overboard from USS cruiser Tacoma', 'Taken as he dived into the water', 'Hardhat diving from Japanese pearling lugger, Reiyo Maru', 'Swimming on surface', 'Helmet diving, collecting trochus shell', 'Adrift after the sinking of the motor yacht Princess Dianne', 'Attempted to return injured shark to the sea', 'Diving / fishing', 'Parachuted into Pacific', 'Fly fishing', 'Washed overboard from the barque Mary Eady', 'Windsurfing', 'Setting crayfish pots', \"Spearfishing, holding 5' speared fish\", 'Hunting seals', 'The World Liberty and the tanker Mosli collided. The  Halcyon Breeze sent a lifeboat to the rescue, but it was smashed, throwing 6 men in the  water', 'Fishing / standing in waist deep water', 'Fishing from shore', 'The troopship Britannia was sunk by the German raider Thor', 'Sea Disaster : Wreck of the Carrie E. Long', 'Free diving / modeling', 'Holding onto an inflatable boat', 'Seine netting', 'Commercial Salvage Diving', 'Fishing in waist-deep water', 'Swimming crawl stroke', 'Scuba diving for lobsters', 'Catching sharks under government contract', 'Inebriated, woke from sleep and fell off deck into the water', 'National Airlines DC7B enroute from Miami to Los Angeles with 42 or 46 people on board went down in heavy fog', 'Surfing, but standing in water alongside board', 'Seining for bait, standing in chest-deep water', 'Shooting sharks', 'Spearfishing (but on surface)', 'Paddling in knee-deep water', 'Wading / Surfing', 'Boat Miss Becky  sank 12 miles from shore', 'Jumped into the water from a cliff', 'Swimming near his boat', 'Carrying a supposedly dead shark by its mouth', 'British ship Macedon was thrown on her beam ends by a sudden squall', 'Fell overboard from P&O steamship Arabia', 'Lifesaving exhibition', 'Fishing inside net', 'Swimming or paddle boarding', 'Swimming with pod of dolphins', 'Attempting to chase shark out to sea', 'Spearfishing & diving for paua', 'Fishing, hauling in a set line', 'Surfing / Swimming', 'Attempting to remove fishing net from submerged object', 'Spearfishing & had just speared a ulua', 'Swimming near life raft', 'Bathing in 2 feet of water', 'Pulling raft out to ride to shore', '17 Maldivians adrift in open boat for 31 days', 'Dived overboard to retrieve dinghy', 'Swimming in pool formed by construction of a wharf', 'Free diving (but on surface)', 'Dry shelling', 'Ocean racing', 'Angling', 'Standing on ship deck', 'Floating face-down in knee-deep water', 'Jumping in the waves', 'Free diving for trochus', 'Fishing, attempted to take a netted shark', 'Spearfishing/ filming', 'Swimming in section of river used for washing clothes & cooking utensils', 'canoeing', 'Body surfing or body boarding', 'Playing / jumping', 'Swimming from the New Venture', 'Surfing, but swimming to his board', 'Capsized fishing boat', 'Spearfishing (Free diving)', 'Swimming to canoe', 'Crawling', 'Copra vessel with 19 on board was wrecked in a squall', \"Adrift on a 4'  raft for 32 days\", 'In water with diving seabirds', 'Fishing for snapper', 'Diving, retrieving fish caught in net', 'Fishing, standing in waist-deep water', 'Petting a shark', 'Fishing, shark caught in his net', 'Accidentally dragged overboard from the sampan Holokahana into school of yellowfin tuna', 'Skin diving for trepang but at surface next to the boat', 'Wading', 'Washed into sea while picking opihi', 'Scuba diving / culling lionfish', 'Swimming to shore from boat or kayak', 'Jumped overboard to rescue companion', 'Fishing for rock lobsters', 'Air disaster', 'Steinhart Aquarium', 'Murdered by Thai pirates', 'Fishing (illegally)', 'Diving for sinkers', 'Climbing back on ship', 'Scuba diving in aquarium tank', 'Attempting to net shark in shark channel', 'The schooner Elizabeth, bound from Bluefields, Nicaragua to the river port of San Carlos foundered', 'Swimming / surfing', 'Floating with life buoy after pilot launch capsized', 'Canoe swamped, swimming back to canoe', 'Swimming to shore after a squall  capsized their motorized shark fishing boat', 'S2F-1 airplane crashed immediately after carrier take-off', 'Taking boat from California to Florida when it ran aground & he was swimming back to boat', 'Murdered', 'Standing in waist-deep water, helping his father tend a gill net containing dead fish', 'Fishing in knee-deep water', 'Night Surfing', 'Feeding prawns to captive sharks', 'Diving / Filming', 'Floating on a small orange raft', 'Swept off deck of S.S.Frontenac enroute from West Indies to US', \"Overcome by CO fumes, fell overboard from 36' fishing cruiser & prop slashed arm\", 'Skindiving,', 'Wading or swimming', 'Swimming between  anchored  pearling luggers', 'Washed overboard by swell', 'Swimming, when caught in heavy seas', 'Swimming after falling overboard from the sealing ship Vesper', 'Air disaster. Flash Airlines Boeing 737 crashed into the Red Sea', 'Diving around anchored liner', 'Standing / Wading', 'Free diving', \"Lying prone in 2' of water\", 'Watching seine netters with friends, one of whom picked up a netted shark', 'Fishing schooner Jose Luis foundered', 'Watching seals', 'Kayaking', 'The SS Potlach was torpedoed & sunk by the U-153 on 27-Jun-1942', 'Teasing a shark', 'Rescuing seaman after ship sunk by German raider', 'Wading near a fishing net', 'Swimming, towing surfboard', 'Plane crashed in water, men in life raft', 'Crouching in the water', 'Fishing for rock lobster', 'Catching crabs', 'Treading water while alongside capsized yacht', 'Fishing for octopus', 'Fishing, trying to catch the end of his fishing line', 'On 6-Nov-1942, the German submarine U-68 sank the City of Cairo 5 days from Cape Town, survivors took to lifeboats & rafts. On the 15th day, a fireman jumped over the stern & was taken by sharks', 'Standing / fishing', 'Spearfishing on Scuba', 'Hookah Diving', 'Canoe capsized with 10 occupants, 8 survived,  Hamilton swam off to seek help', 'Fishing, two large sharks passed. He speared one and it bit him', 'During \"an exhibition\" he was tied in sack & thrown overboard', 'Argentine Air Force C-54', \"Scientific research (Dr. Sonny Gruber's student)\", 'Lying prone on surfboard', 'Scuba diving (ascending using scooter)', 'The 500-ton coastal trader Polurrian foundered', 'Standing in waist-deep water', 'Attempting to attract dolphins', 'Fell overboard from sponge vessel', 'Put foot inside mouth of supposedly dead shark', \"Fishing, standing in 2' of water\", 'A 75-ton  Japanese fishing ship was sunk by  Chinese Nationalist gunboat, shipwrecked men were clinging to debris', 'Playing on a sandbar', 'Spearfishing with Joe Turner (24). Shark attracted to speared halibut on belt of one diver, tried to bite Ide�s speargun & he shot it in the mouth', 'Fell off banana boat', 'Searching for remains of  Dr. Marais', 'Spearfishing / Scuba diving', 'Wade-fishing', 'Washed off freighter Huncliff by a freak wave', 'Dress diving, filming shark & pulling it through the water for a motion picture scene', 'Paddling a canoe', 'Shipwrecked pearling schooner', '43-ton schooner Irene capsized & sank', 'Fell overboard?', 'Adrift on life raft', 'Loss of the schooner Nomad', 'The Cuban freighter Libertad was torpedoed and sunk by the German submarine U-129', 'Crew swimming alongside their anchored ship', 'Longling fishing', 'Bathing in river', 'Fishing (trolling)  from canoe', 'Playing in surf with his child  (9)', 'Fishing, walking in river to cast', 'Free diving, working on U/W scenes for motion picture', 'Fishing / diving', 'Checking fish traps, fell into the water', 'Bitten after dhow shipwrecked', 'Net fishing, fell into the water', 'Diving for trochus shell', 'Diving for trochus from lugger', 'Fishing, hauling in net, shark in net', 'Swimming naked near a date palm where many dates fell into the water', 'Aircraft exploded', 'Fishing for prawns', 'Thrown from destroyer when shell hit', 'SS Ethel Skakel foundered in Central America Hurricane of 1941', 'Snorkeling on surface', 'SUP', 'Fell from the jetty', 'Watching the shark feeding on a dead pinniped', 'Working prawn net', 'Launching a boat', 'preparing to go skin diving', 'Jerked overboard while pole fishing for tuna', 'Fishing for white sharks', 'Diving, gathering shellfish', 'Survived US Naval aircraft crash, climbing onboard rescue vessel when he fell back into sea', 'Swimming near jetty', 'Diving, photographing sharks', 'Fishing, holding fish in right hand', 'Gathering fish stunned by dynamite', \"Lying on the bottom of a 16' dinghy\", 'Fell into the water', 'Attempting to land a boat from the Hinemoa', 'Pearl diving, but standing in the water', 'small boat', 'The 240-ton motor vessel Pilar II with 100 people on board capsized in high winds & rough seas', 'Fishing, when line became snagged on rock & he dived into water to free it', 'Surfing, fell off surfboard', 'Free diving / spearfishing', 'Free diving, carrying speargun', 'Sailing on catamaran & fell into the water', 'Wreck of  large double sailing canoe', 'Feeding fish', 'Anti-Aircraft cruiser USS Atlanta (CL,-05) travelling in convoy after the Battle of Midway, encountered a Japanese flotilla  (Battle of Guadalcanal) &, heavily damaged by gunfire, she was lost off Lunga Point. Victim was swimming when bitten', 'Bathing or washing', 'Attempting to swim across the Atlantic Ocean', 'Sea Disaster, sinking of the motorship Wingate', 'Fishing for red fish', 'Diving into water', 'The cutter Francis Adams foundered', \"Fishing, removing gaff from shark's mouth\", 'Hunting lobsters in 2.4 m of water', 'SCUBA diving', 'R5D aircraft went down with 29 on board', 'Dived into sea from launch & bitten immediately', 'Fishing for sharks when he became entangled in net & fell overboard', 'Competing in the Woodvale Atlantic Rowing Race', 'Kayaking (returning from spearfishing)', \"Zosimo & his son, Jeffrey Popa, failed to return from overnight fishing trip in a 14' boat, Boat apparently sank, debris recovered but his son & boat were never found\", 'Spearfishing, carrying fish on belt', 'Attempting to rescue an injured & beached shark', 'Attempting to kill a shark with explosives', 'Jumped off rocks into white water', 'Holding shark on leader & dangling it above the water', 'Kayaking / Fishing', 'Surfing, fell off surfboard & stepped on the shark', 'Wade Fishing', 'Fishing with dynamite, afterwards in water retrieving catch', 'Swimming underwater from crayfish cage to a fishing bait', 'Diving for coins thrown from ship S.S. Moeraki', 'Sea Disaster, sinking of the  SS Vestris', 'Swimming ashore after launch capsized', 'Plane forced down, 3 men on rubber life raft. Put hand over side to feel drift of boat', 'Retrieving meat from a cage in the water', 'Longline fishing', 'Attempting to illegally enter the USA', 'Skindiving for specimens', 'Scuba diving (but on surface)', 'Fishing for squid aboard the trawler Shikishima-Maru when the shark leapt into the boat', 'Among 31 survivors of crew from the sampan Fukulya Maru (which reached Thursday Island in rowing boat) was a man whose arm had been bitten off by shark. The sampan wrecked west of McArthur island', 'She was on a ship that was torpedoes & was in the water awaiting rescue', 'Swimming, using bundles of sticks as raft', 'Sea Disaster, canoes capsized in storm', 'Windsurfing, but sitting on his board', 'Body found floating next to his ship', 'S.S. Marine Sulphur Queen, laden with molten sulphur was bound from Beaumont, Texas for Norfolk, VA, when she disappeared with 39 on board', 'Spearfishing & lassoed shark', 'Competing in spearfishing championship & towing dead fish', 'Trochus diving, but floating on surface', 'Free diving for sinkers', 'Swimming in strong current with 3 others when he disappeared', 'Yacht Gooney Bird foundered, 4 survivors on raft', \"Days before the surrender of Singapore, the 3 men escaped to Sumatra where they acquired a 17' dinghy. After 125 days at sea they drifted back to Sumatra\", 'Spearfishing', 'Sponge diving', 'Fell off aircraft carrier', 'Surfing', 'Fell oveboard', 'Collecting marine specimens', 'Surfing, sitting on board', 'Attempting to retreive a dinghy', 'Fishing  (trawling)', 'Shipwreck', 'Treading water after survivng crash of the US Navy airship K-74 that was hit by the German submarine U-134', 'Bathing with sister', \"a corsair's boat was overturned\", 'Air/Sea Disaster involving C-54 Air Force Transport No. 2686 with 37 on board', 'Swimming / floating', 'Netting pilchards', 'Adrift after ditching plane in the sea', 'German raider Kormoran was sunk in an engagement with HMAS Sydney', 'Body found on deserted luxury yacht, 38� Christine', 'Climbing up to ship after repairing the stern in water', 'Crossing river on a raft', 'Pulling anchor', 'Spear fishing, removing fish from spear', 'Taking catch from a fish weir in which the shark was snared', 'Sea Disaster, wreck of the  SS Norwich City', 'Wading & pushing dinghy toward  the shallows', 'No details', 'Harassing a shark', 'Attempting to drag hooked shark ashore by its tail', 'Wreck of the Union Steamship Company 982-ton iron steamer Kafir', 'Washed off catamaran in the surf', 'Dynamiting fish', 'In boat being towed by ship, Karnak', 'Free diving for abalone', 'Water-skiing', 'Wreck of the USS Somers', 'Dived into a school of baitfish', \"Sitting in bow of her father's 5 m boat\", 'Jumped overboard after murdering 2 shipmates', 'Standing or boogie boardin', 'Boat exploded', 'Hardhat diving', 'British cruiser Dunedin torpedoed & sunk by the U-124', 'American minesweeper USS YMS-350 lost in a typhoon - swimming to shore', 'Boat accident', 'Diving from dinghy for trochus shell', 'Bodysurfing', 'Fishing for sharks', 'Shark fishing', 'Sailboarding, fell into water 100 yards outside the breakwater', 'Fell or jumped overboard from the liner Rhynland', 'Royal Hawaiian skymaster DC-6B aircraft went down with  58 passenger & crew', 'Fishing for the shark that killed George Lundberg', 'Surfing, but lying prone on his board', 'Jumped out of canoe', 'Cleaning the side of a ship', 'Tzenny Chandris, a Greek freighter laden with scrap iron, foundered in heavy weather', \"63' fishing boat Sno' Bay foundered\", 'Arsinoe, a French tanker', 'Fishing, holding fish in his left hand', 'Bending over', 'Sinking of the ferryboat      Don Juan', 'Floating on back', 'Swimming, after sailboat capsized', 'Free diving for scallops', 'Helmet diving', 'Spearfishing, shot a sandtiger shark. Cord to spear tangled round his legs & a wave washed him onto a reef', 'Collecting fish by lamplight in gully', 'Wading to shore from his boat', 'Floating on his back', 'Sight-seeing', 'Killing a shark', 'Fishing from a small boat & put his hand in the water while holding a dead fish', 'American minesweeper USS YMS-472 foundered in a typhoon - swimming to shore', 'Cargo ship El Gamil entroute Suez to Yemen (Aden) when her cargo shifted and she sank. 19 Egyption sailors jumped into the water and swam for several hours before being bitten by sharks', 'Spearfishing, Smith  & Walker touched shark with tip of their guns', \"Fishing, caught a 15' shark & took it onboard\", 'Wreck of the steamship Sultan of Bombay', 'Swimming after being swept into sea by a large wave', 'Swimming / jumping off a jetty', 'Attempting to fix motor', 'ship M.V. Rizal sank during typhoon', 'Bathing alongside US Naval ship', 'Adrift on raft after their ship was sunk by an Axis raider', 'Taking wife to beach & about 1 m from the shore', 'Spearing fish', 'Ferry boat Dona Paz with 4431 passengers exploded & caught fire when she collided with an  oil tanker', 'p�cheur de bichiques', 'Grabbed shark & threw it on deck', 'Boat, with 42 passengers onboard, capsized in rough seas', 'Spearfishing, free diving, possibly ascended into path of cruising shark', 'S2N Navy scout plane went down, E.H. Almond & Lieut A.G. Reading in water', 'Swimming to avoid capture', 'Fishing (Drowned 2-Apr-2002)', 'Hunting turtle', \"Fishing with hand net in 2' of water\", 'The USS Wahoo torpedoes & sank the Japanese troop transport Buyo Maru', 'Surfing (or sailboarding)', 'Dress diving', 'Returning to shore, collided with shark', 'Spearfishing or fishing', 'Spearfishing with Scuba gear', \"Swimming at surface through school of feeding 2.5' to 5� sharks\", 'Diving for Abalone', \"Diving in Sharkey's Reef restaurant�s aquarium\", 'Tuna fishing, standing on stern platform that was submerged by waves', 'Free diving / Spearfishing', 'Kite Boarding', 'Diving, feeding sharks', 'Swimming, after falling overboard', 'American freighter Mormackite, bound from Buenos Aires for Baltimore, capsized & sank in heavy seas', 'Wind surfing', 'Swimming at edge of channel', 'Fishing on a boat', 'His ship, the US destroyer Duncan DD 485, had been  sunk by crossfire from Japanese warships. He was wearing a kapok lifejacket & using 2 aluminum powder tins for floatation', 'Motor launch Baby Princesa capsized with 22 people on board', 'Swimming after their boat capsized', 'Surf fishing in waist-deep water', 'Ditched plane in the sea & were adrift on a rubber life raft', 'Playing in the water', 'Bottom fishing for lingcod & had hooked a fish', 'Spearfishing / Scuba diving (at surface)', 'Disappeared 11 days earlier, probable homicide victim', 'Scuba diving & spearfishing', 'The British steamer Caribbee foundered', 'Fishing, catching snoek, Thyrsites atun', 'Sponge divers', 'Towing her sister on plastic ski board', 'Attempting to free the shark', 'Walking, carrying surfboard & stepped on shark', 'Bathing alongside the American ship Thomas W. Sears', 'fishing boat exploded & sank', 'Hard hat diving', 'Fishing in ankle-deep water', 'On life raft tethered to lifeboat. A seaman put hand over side to rinse a cup', 'Fishing from market fishboat Sea Spray', 'Stamding', 'Dragging a shark', 'Floating, after falling or jumping off the Standard Oil tanker Frederick W. Weller', 'Casting a net', 'Spearfishing, shot shark, hauled it onto boat', 'Hookah diving for sea urchins', 'Slapped shark on tail as it swam by', 'Fishing & spearfishing', 'Swimming ashore from a \"filibuster', 'Attempting to rescue crew after whale upset their boat', 'Swimming after harpooned whale capsized boat', 'Closed circuit diving (submerged). Diving to recover jettisoned packets of opium for police', 'Finning the shark that bit him', 'Scuba Diving', 'Paddle Boarding', 'American cruiser Indianapolis torpedoed & sunk by the Japanese submarine I-58', 'A 210-ton brig was sunk by a Japanese submarine. Some of the survivors were machine-gunned & some were taken by sharks', 'Freedom swimming', 'male', 'Air/Sea Disaster Pan-American Airlines Stratocruiser with 44 people onboard crashed into the sea', 'Swimming, caught in strong backwash & disappeared', 'Collecting shells', 'Boat capsized, clinging to line', 'Testing movie camera in full diving dress', 'Diving (Hookah)', 'His balloon crashed in the harbor', 'Abalone diving using Hookah (near calving whales)', 'Diving for pearls', 'Spearfishing using scuba & trailing a string of bleeding fish', 'Skin diving', 'Shrimping', 'Swimming alongside warship   Tsingt-ao', 'Exercising his dog in the shallows', 'Jumped overboard from Norwegian steamship Venator', 'Free diving / spearfishing, from paddleboard & floating on the surface', 'The coastwise steamer San Basilio capsized in a typhoon', 'Free diving, surveying a pipeline & examing cathodes under jetty', \"Bathing in 3' to 4' of water\", 'Helmet diving in Miami Seaquarium', 'Spearfishing, speared a small shark', 'Swimming & splashing', 'Finning the shark', 'Bather', 'Swimming, ducking for shells in water 0.9 m deep', 'Torpedoed & burning British  light cruiser with a crew of 450 men', 'Swept out to sea while net fishing', 'Free diving with seals', 'SUP Foil boarding', 'Swimming after boat became disabled', 'Lobster fishing', 'Swimming (using a float)', 'Spearfishing on scuba', 'Scuba diving, but swimming on surface', \"Fell off surfboard 20' from shore\", 'Sittting in water with his child', 'Swimming to shore from capsized kayak', 'Diving (Helmet) for sponges', 'Body surfing / treading water', 'Washed into sea while picking opihi & attacked by 2 large sharks', 'The inter-island ferry Vula sank in heavy weather', 'Diving for trochus , but swimming on surface', 'Scallop diving on hookah', \"Bathing in 5' of water\", 'ship torpedoed 400 miles off the African coas. Man was clinging to hatch cover', 'British patrol boat 1250-ton HMS  Valerian foundered in a hurricane', 'Body boarding or surfing', \"Explosion destroyed 28' boat, survivors in the water\", 'Wooden fishing boat', 'Freediving', 'Sailing from Gingood, Misamis Oriental to Sagay (normally a 2-day voyage) capsized with 6 on board, three men were taken by sharks when they attempted to swim to shore', 'Diving, but on the surface when bitten by the shark', 'Night diving', 'In rubber dinghy with Captain Eddie Rickenbacker for 21 days', 'Bathing close inshore', 'Boat swamped', 'Collecting fish from net', 'Diving for pen shells', 'Swimming between boats', 'boat capsized during filming', 'Diving for coins', 'Floating', 'Attacked shark with fists', 'Swimming with motor tube', 'Fell overboard, prop slashed arm', 'The steamer Tahiti collided with the ferry Greycliffe', 'Swimming / snorkeling', 'Free diving Spearfishing', 'Rolled off raft', 'Freediving for abalone (at surface)', 'Swimming, after boat swamped', 'Painting a ship', 'Paddling', 'Portuguese Airliner with 9 people aboard went down', 'Adrift in a life jacket', 'Put foot inside a landed & supposedly dead shark', 'Swimming on sandbar adjacent to channel', 'Diving & fishing with net', 'HBM Magpie foundered in a squall', 'Boogie boarding, kicked at object in the water', 'Walking / surfing', 'The passenger ship Pioneer Cebu  capsized & sank in Typhoon Irma', 'Jumping', 'Standing, gathering oysters', 'Attempting to drive shark away from the beach', 'The 2379-ton French steamer La Seyne collied with British steamer Onda & sank in minutes. Passengers jumped overboard expecting to be picked up by Onda�s boats', 'Harpooned shark', 'Attempting to drive shark from area', 'Hauling in net', 'Lifesaving drill', 'Adrift after wave swamped engine', 'Swimming, wearing black wetsuit & swim fins', 'Line fishing from Lakotoi, saw shoal of fish, dived overboard, had speared second fish & surfaced for air', 'Coming ashore on a hawser', 'Body surfing?', 'Rescuing', '3.3 m fishing boat sank. Treveluwe & Peter Hodgson (wearing lifejackets) were drifting in the current', 'Dived overboard to check propeller of US Navy motor torpedo boat', 'Deserting the bark Nazarene', 'Standing / Bathing', 'Fishing with hand line tied to wrist & was pulled into the water', 'Dropping anchor', 'Gigging for flounder', 'Bathing alongside ship', 'Fishing, slipped on rocks & fell into sea', 'Floating on inner tube raft', 'Fishing / cleaning fish, dived into water to retrieve a lost fish', 'Crossing inlet in a boat, seen fighting sharks with his oar, sharks smashed boat', 'Thrown into water from fishing dinghy', 'The steamships Thingvalla and Geiser collided', 'A junk foundered', \"Skin diving. Grabbed shark's tail; shark turned & grabbed diver's ankle & began towing him to deep water\", 'Wading to shore after surfing', 'Fell overboard from USS Ward', 'Lost his footing & fell overboard', 'Spearfishing using Scuba', 'Free diving / photography, kneeling on sand', 'Sea disaster, foundering of the cargo vessle M/V Dorolonda', 'Free diving / spearfishing (resting on the surface)', 'Swimming in midriver near sewage outlet & 400 m from a slaughterhouse', 'Treading water/ Surfing', 'Cleaning hull of ship', 'Sculling', 'Swimming behind sailboat', 'Shark fishing on the Don Agust�n-VI', 'Surfing (sitting on his board)', 'Dutch merchant ship Zaandam torpedoed  by the U-174 amidships, sank & dozens of survivors took to rafts & boats. One man, Izzi, who drifted 83 days on a raft related that sharks attacked many men in the water when the ship went down', 'Fishing for blue sharks', 'Surfing (or body boarding)', 'Cruising', 'Sinking of the ferryboat Bongbong 1', 'Swimming after a tennis ball', 'Diving for pearl shell', 'Swimming alongside the SS Kearsarge', 'Ascending from a dive', 'Fishing, had just speared a ulua', 'Bathing / standing', 'Pleasure boating', 'Boat with 5 men capsized while returning to the Amerique', 'Spearfishing / swimming on surface', 'Fishing, hooked shark towed boat out to sea, storm swamped boat', 'Colombian  (Avianca) DC-4 airliner plunged into the sea 5 minutes after takeoff', 'Light aircraft ditched at sea', 'Small boat with 2 men onboard hit a submerged coral formation. Men began swimming to shore', 'Swimming outside the safety enclosure attempting to retrieve a tennis ball drifting toward midstream', 'Being pulled to shore from wreck of 25-ton fishing vessel Alan S', 'Swimming / Wading', 'Sea disaster', 'Fishing for yellowtail, Seriola quinqueradiata', 'Goggle-diving for seaweeds, but standing in water', 'Free diving for sponges', 'British ship, Britannia,  was loading lumber. He was bathing', 'seaplane Columbus ditched in the sea', 'Spearfishing, carrying his catch', 'Diving in aquarium display tank', 'Net fishing', 'Hoisting shark aboard fishing boat', 'Bodyboarding', 'U.S. Airforce crewman reported missing after bailing out of jet', 'Paddle Skiing', 'Swimming to shore after boat capsized by a squall', 'Hookah diving (submerged)', 'Lying on surfboard & paddling', 'Gathering shells', 'Fishing, hauling in fishing gear', 'Aircraft ditched in the sea, swimming ashore', 'Swimming, towing a kayak', 'Fishing, boat capsized', 'Fishing from dinghy', 'Fishing in shoulder-deep water', 'Shark watching', 'Swimming near breakwater', 'Swimming in the channel', 'Tandem surfing', 'On inflatable raft', 'Free diving for abalone from Zodiac (submerged)', 'wreck of the State Oil Company ship Permina', 'Fishing from surfski', 'Fishing for tunny', 'Slipped off rocks and fell into the water', 'Paddle-boarding', 'Hookah diving for pen shells', 'Paddling rescue ski', 'Lying atop surfboard', 'Fishing (Seining)', 'Marathon swimming', 'Boarding a ship', 'Spearfishing Competition', 'Filming', 'Crabbing', 'Survived crash of two-engine  C-46 transport plane carrying 62 migrant workers from Puerto Rico to USA', 'Fell overboard from fishing schooner Halycon', \"40' fishing boat sank\", 'Fishing from rocks, swept out to sea by large wave & treading water', 'Oystering', 'Fisherman', 'Free diving, collecting shells', 'Diving off wharf', 'Spearfishing, shark grabbed his white t-shirt and towed him', 'Feeling the shark�s teeth', 'Hunting seashells', 'Swimming off yacht', 'Restraining a beached shark', 'Fell overboard from the Sobella', 'Fishing for albacore', 'Free diving for crayfish', 'Testing classified underwater electronic gear for Raytheon Corporation, vessel torn apart by explosion', 'Air/Sea Disaster', 'Escaping from blackbirding vessel', 'Swimming with boogie board', 'Adrift on refugee raft', 'Pearl diving from lugger', 'Swimming to retrieve a flannel', 'Scuba Diving for scallops', 'Treading for clams', 'Swimming /  Whale Watching', \"Fishing, stepped on hooked shark's head\", 'Body surfing or Boogie boarding', 'Fell overboard', 'Diving for shells, saw shark circling wife near the surface, intercepted shark & it pulled him beneath the water', 'Petting captive sharks', 'Swimming to shore from capsized sailboat', 'Pacific Seafarer of US Navy', 'Free diving / Spearfishingat edge of reef', 'Unknown, but it was said to be the \"First known attack in Sydney Harbour', 'Swimming / Body surfing', 'Swimming or snorkeling', 'Parachuted from balloon', 'Standing, washing rear wheels of his ambulance in ankle-deep water', 'Standing in inner tube', 'Diving for abalone', 'A father bathing his smallest daughter when the shark bumped her out of his arms and carried her into deep water', 'Photographing sharks underwater using Scuba', 'Yacht race', 'Commercial fishing vessel, Ev-nn, struck object & sank. Ken Crosby and  Jame & Ann Dumas adrift on makeshift raft', '4 men were bathing', 'Man fell overboard from ship. Those on board threw a rope to him with a wooden block & were pulling him to the ship', 'Wreck of the 1689-ton Portuguese  coaster Angoche', 'Towing rubber dinghy', 'Diving by wharf', 'Steamer Una wrecked with 75 laborers onboard. Survivors took to rafts & lifeboats', 'Small vessel with 13 men on board capsized crossing the bar and 6 men drowned.  The 7 survivors were swimming to shore', 'Sinking of the dredge World Atlas', 'Swimming & snorkeling', 'Hookah diving for abalone (submerged)', 'Working on the bridge when he fell into the river', 'Boogie-boarding / swimming', 'Fishing from shore, washed into the sea', 'Fell from yardarm of British ship Rover', 'Wreck / Technical diving', 'Scuba diving & filming', 'Fishing for cod', 'Net fishing, picking catch from the net', 'Spear fishing', 'Rowing an inflatable dinghy', 'Batin', 'Swimming or Snorkeling', 'Spearfishing / scuba diving', 'Unknown, their unoccupied yawlboat was recovered', \"Diving, repairing water main at depth of 90'\", 'Canoe with 3 men onboard sank', 'Swimming, carrying tin can with mail to steamer', 'Washing sand off a speared fish', 'Oyster fishing', 'Diving / UW photography', 'Swimming after his canoe capsized', 'Swimming, towing an empty barrel', 'Lobstering', 'Body-boarding', 'The cutter yacht Cutty Sark sank', 'Scurfing (surfboard being  towed behind a boat)', 'Attempting to catch a crocodile', 'Kitesurfing', 'Netting shrimp', 'Bringing hooked, harpooned shark onboard boat', 'On a \"shark hunt', 'Bitten while cutting shark from net', 'Diving from lugger', 'Spearfishing & holding catch', 'Fell onto dead shark', 'Vessel caught fire & capsized, survivors in the water', 'Inspecting teeth of supposedly dead (hooked & shot) shark', 'Spearfishing on scuba & transferring fish onto a stringer', 'Fishingat', 'Paddling on surfboard', 'Dived overboard & was swimming near stern of trawler', \"Fishing - 'tag & release'\", 'Hurricane & Tidal Wave', 'Fell overboard, hanging onto lifebuoy', 'Conducting a promotional film project for the Gemini space program (a practice astronaut recovery)', \"Diving for trochus  from dinghy when seized by shark 6' below the surface\", 'Dived from dinghy to retrieve oar in heavy seas', 'Attempting to ride a shark', 'Sea disaster, wreck of the Alfred Watts', 'boat from ship Josephine capsized in squall', 'Diving for pearl', 'Wading, netting fish', 'Fishing for tarpon', 'Fell overboard from steamship Rio Grande', 'Removing hook from shark', 'Bathing or body surfing', 'Riding a horse', 'Free diving with a pod of dolphins', 'Fishing, lifting shark out of craypot', 'Observing a shark feeding on a carcass of a humpback whale', 'Swimming with dolphins', 'Free diving , but surfacing', 'Sitting', 'Feeding stingrays?', 'Walking in shallows', 'Free diving, hunting crayfish', 'Attempting to rescue drowning man', 'Free diving & spearfishing (ascending)', 'Killing  sharks', 'Conch diver', 'Freediving for trochus shell (submerged)', 'Jumped overboard from torpedoed Panamanian freighter', \"Holding shark's tail\", 'Fishing?', 'Dived onto shark from floating stage', 'Swimming ashore from fishing boat swamped and sunk by a squall', 'Removing shark from a net', 'Diving from canoe', 'Washing horses', 'Spearfishing, holding mesh bag with speared fish', 'Diving. Shark �swallowed� his hand, so he threw his other around the shark and went �shark-back riding� for 30 yards until the shark opened its jaws', 'Spearfishing, but swimming at surface', 'Explosion & sinking of the USS Juneau after being torpedoed by the submarine  I-85', 'Bathing in water 0.9 m deep', 'Sea disaster : Wreck of the Taiaroa', 'A dhow capsized', 'Swimming in canal', \"12 of the Penang's crew were returning to the ship when their 12' dinghy capsized\", 'Removing shark from net', 'Picking up shark by the tail', 'Paddling & sailing from Buenos Aires to Miami', 'Underwater photography', 'Fishing for pompano', 'Swimming / shipwreck', 'Removing fish from a trap', 'Free diving, Spearfishing', 'Scooping prawns', 'Bathing near whaling ship (bark A. R. Tucker of New Bedford, Massachusetts)', 'On December 28, 1908, an earthquake, followed by tsunamis, destroyed coastal towns in Silcily and southern Italy, killing more than 100,000 people', 'Paddleskiing', 'Filming & feeding captive sharks', 'Swimming /  boogie boarding', '3 men & 2 boys picked up wearing life jackets and with inner tube', 'Scuba diving, attempting to catch a captive shark', 'HMAS Parramatta torpedoed & sunk by the U-559', 'Surfing, pushing board ashore', 'Washing', 'Dynamite fishing', 'Swimming to anchored boat', 'Swimming to shore with floatioon devices after boat engine conked out', 'Floating with life preserver after his boat foundered', 'Body surfing & treading water', 'Attempting to anesthetize shark', 'Walking', 'Collecting ornamental fish', 'Surfing with dolphins', 'C47 aircraft carrying 5,000 lbs of ice ditched in the sea', 'Fishing, fell from rocks & disappeared', 'Washing clothes', \"Ship's boat capsized in squall, captain & 2 sailors clinging onto hull\", 'Swimming alongside the schooner Catherine Wilcox', 'Hauling in net with shark in it', 'Harpooning turtles', 'Surfing & filming dolphins', 'Washing his feet', 'Fishing, on a boat', 'Fishing, standing in water next to purse net', 'Crossing the river mouth', 'Lying in 2 feet of water', 'Spearfishing, shot a turtle', 'Skindiving, fish at belt', 'Wakeboarding', 'Hauling dead shark aboard, when another shark leapt out of the water & bit him', 'Abalone diving using Hookah (resting on the surface)', 'Jumped off surfboard & landed on the shark', 'The Pacquebot Laconia, enroute to Liverpool with 600 Italian prisoners onboard, was torpedoed by the German submarine  U-156 and only 2 rafts were launched before the ship went down. Unable to board an overcrowded raft, he was swimming', 'Floating or standing', 'Trailing hand in the water', 'M.V. Tropical sank. Sole survivor rode oil drums for 8 days without food or water', 'Swimming close to wharf', 'Skindiving for abalone (but at surface)', 'Gaffing & attempting to bring onboard a harpooned shark', 'Skindiving', 'Fell overboard while fishing for sharks', 'Free diving & spearfishing', 'Free diving  & spearfishing (submerged)', 'Fishing for yellowtail', 'Fishing for mackerel', 'Spearfishing (but treading water on the surface)', 'Swimming from capsized boat', 'Jumped overboard', 'Accidentally thrown overboard & treading water while awaiting rescue', 'Kayaking or Wave skiing', 'Swimming beside launch', 'Spearfishing / night diving', 'Surf fishing / wading', 'Measuring sharks', \"Fishing from 32' boat\", 'Swimming with fish attached to  belt', 'Fleet of canoes caught by a squall and charged by sharks', 'Shipwrecked', 'Swimming from camp', 'Reached out to disentangle rope & fell overboard', 'Leicester abandoned in a hurricane', 'Swimming in fish tank', \"Onboard 21' powerboat that capsized in rough seas\", '3-masted steel barque Glenbank foundered during a cyclone', 'Swimming at side of small boat', 'Diving from the lugger San, operated by the Protector of the Aborigines', 'Scuba diving, hand feeding sharks', 'Diving & force-feeding the shark', 'Dragging banana seeds through the shallows', 'Investigating shark sighting', 'Swimming near canoe', 'Commercial spearfishing', 'Bathing in knee-deep water', 'Wade fishing', 'Swimming along side N.E.L. vessel Saluda', 'Standing', 'Boat of a Hawaiian brig was stove in by  whale', 'Collecting fish in military trap when bitten by captured shark that had been shot by soldiers with Garten', 'Foundering of the Israeli freighter Mezada', 'Retrieving bait box that had fallen overboard', 'Attempting to rescue woman seized by shark', 'Stand-Up Paddleboarding', 'Diving for sand dollars', 'Canoeing', 'Free diving but treading water at surface', 'Swimming out to rescue swimmers in difficulty', 'HMS Victoria collided with the HMS Camperdown', 'Fishing trawler Flavio Gioia', 'Swept out to sea by the tsunami, she clung  to a log for 24 hours', 'Fell overboard from a frigate & was swallowed by a shark. The captain fired a gun at the shark, and \"the creature cast the man out of his throat', 'Swimming with other crew near wharf', 'Hunting crayfish', 'Spearfishing, had fish on his spear', 'Transatlantic Rowing', 'NSB Meshing', 'Hookah diving', 'Paddling a surfboat', 'a canoe was pursuing a schooner that had forcibily abducted 5 young girls', 'Surfing or body surfing', 'Surfing, paddling shorewards', 'Walking out of the water after surfing', 'Floating on raft', 'Fishing boat swamped in storm', 'The steamship Bonnie Dundee lost in collision', 'Spearfishing, hunting crayfish', 'On fishing boat & trailing hand in the water', 'Freediving, inspecting Kaunakakai wharf construction after blasting & dredging', \"Fishing from 34' boat when pulled overboard by hooked shark\", 'Resting on body board', 'Swimming with board', 'Boat capsized?', 'Touching the mouth of a supposedly dead shark', 'Inflatable boat', 'Sailing', 'Swimming from makeshift raft  to life vest after fishing boat sank', 'Swimming with goggles', 'Longline fishing for sharks', 'Attempting to escape by swimming to shore', 'Kneeling in the water', 'Standing / surfing', 'The Ward liner Esperanza stranded during a gale & she leapt overboard to rescue her dog which had been swept overboard', '13 men in the water after sailboat capsized & sank', 'Surfing, collided with shark'}\n"
     ]
    }
   ],
   "source": [
    "print(set(df.Activity))"
   ]
  },
  {
   "cell_type": "code",
   "execution_count": 130,
   "metadata": {},
   "outputs": [
    {
     "name": "stdout",
     "output_type": "stream",
     "text": [
      "{nan, 'Rowing', '', '90 European civilians, many women & children, were placed on the deck of a Japanese submarine that submerged when it was well offshore', 'Shark tagging', 'Crouching in the water', 'Catching crabs', 'Treading water while alongside capsized yacht', 'Jumping', 'Attempting to drive shark away from the beach', 'Attempting to drive shark from area', 'Harpooned shark', 'Aircaft exploded', 'Netting menhaden, sharks caught in net', 'Hauling in net', 'Lifesaving drill', 'Adrift after wave swamped engine', 'Tagging sharks', 'Murder victim', 'Overturned skiff', 'Argentine Air Force C-54', 'Unknown', 'Fleeing across a river', \"Scientific research (Dr. Sonny Gruber's student)\", 'accident', 'The 500-ton coastal trader Polurrian foundered', 'Coming ashore on a hawser', 'Removing shark from a trap', 'Floating in creek', 'Crossing the river', 'Rescuing', 'Attempting to attract dolphins', \"Crouching in 2' of water\", 'Put foot inside mouth of supposedly dead shark', 'Washing cooking pans', 'Deserting the bark Nazarene', 'Dropping anchor', 'Spent 8 days in dinghy', 'Playing', 'Playing on a sandbar', 'Escaping from Alacatraz', 'Gigging for flounder', 'Searching for remains of  Dr. Marais', 'Washed off freighter Huncliff by a freak wave', 'A junk foundered', 'Loss of the schooner Nomad', 'Testing anti-shark cage', 'Wrangling a shark', 'Stuffing a shark into an automobile', 'Walking on reef', 'Sea disaster, foundering of the cargo vessle M/V Dorolonda', 'Sculling', 'Leaving the water', 'Trying to catch a wounded bird', 'Gaffing netted shark', 'SS Ethel Skakel foundered in Central America Hurricane of 1941', 'Thrown from destroyer when shell hit', 'Dragging stranded shark into deeper water', 'SUP', 'Touching sharks', 'Fell from the jetty', 'Watching the shark feeding on a dead pinniped', 'Working prawn net', 'Spearing a shark', 'Treading water', 'Colombian  (Avianca) DC-4 airliner plunged into the sea 5 minutes after takeoff', \"Lying on the bottom of a 16' dinghy\", 'Fell into the water', 'Sea disaster', 'seaplane Columbus ditched in the sea', 'Boeing 757 enroute from Porta Plata plunged into the sea', 'U.S. Airforce crewman reported missing after bailing out of jet', 'Paddle Skiing', 'The cutter Francis Adams foundered', 'Wreck of the Sovereign', 'Gathering shells', 'Competing in the Woodvale Atlantic Rowing Race', 'Dragging stranded shark ashore', \"A man's head found in a shark caught by British steamer Syria\", 'Attempting to rescue an injured & beached shark', 'Attempting to kill a shark with explosives', 'Jumped off rocks into white water', 'Holding shark on leader & dangling it above the water', 'Playing in knee-deep water', 'Shark watching', 'Ferry capsized', 'Playing with a frisbee in the shallows', 'Netting sharks', 'Floating on his back in an inner tube', 'Playing with an air mattress', 'Photographing the shark', 'Retrieving meat from a cage in the water', 'Floating, holding onto an oar after dory capsized', 'Slipped off rocks and fell into the water', 'Attempting to illegally enter the USA', 'Chumming for sharks', 'Paddling rescue ski', 'Walking in chest-deep water', 'Filming', 'Crabbing', 'Washing his pig in preparation for a religious ceremony', 'Sitting in shallows', \"Days before the surrender of Singapore, the 3 men escaped to Sumatra where they acquired a 17' dinghy. After 125 days at sea they drifted back to Sumatra\", 'Oystering', 'Feeding a shark', 'Playing on rock, slipped & fell into the water', 'Feeling the shark�s teeth', 'Hunting seashells', 'Collecting marine specimens', \"Filming 5' blue shark\", 'Restraining a beached shark', 'Attempting to retreive a dinghy', 'Testing classified underwater electronic gear for Raytheon Corporation, vessel torn apart by explosion', 'Washing clothes on stairs', 'Air/Sea Disaster', 'Escaping from blackbirding vessel', 'On a float', 'Sitting on side of dinghy mending a net', 'Netting pilchards', 'Hand lining for shad', 'Riding horseback across the creek', 'The Dwarka foundered', 'Wreck of the schooner Pohoiki', 'Their 9 m launch was run down by a 25,000-ton Japanese freighter  on the night of 3-11-1977 & they drifted, clinging to an icebox for 2 days', 'Adrift after ditching plane in the sea', 'Pulling shark from the water', 'Treading for clams', 'Lashing logs together when he fell into the water', 'Body found on deserted luxury yacht, 38� Christine', 'Petting captive sharks', 'Pacific Seafarer of US Navy', 'Treading water, waiting for a wave', 'Unknown, but it was said to be the \"First known attack in Sydney Harbour', 'Pulling anchor', 'Floating on air mattress', 'Parachuted from balloon', 'Sea Disaster, wreck of the  SS Norwich City', 'Helping men land a shark', 'Photographing sharks underwater using Scuba', 'Harassing a shark', 'No details', 'Yacht race', 'Attempting to drag hooked shark ashore by its tail', 'Wreck of the 1689-ton Portuguese  coaster Angoche', 'Washing a dog', 'Water-skiing', 'Wreck of the USS Somers', 'Towing rubber dinghy', 'Working on the bridge when he fell into the river', 'Floating in inner tube', 'Rowing an inflatable dinghy', 'Batin', 'Vehicle plunged over cliff into the water', 'Suicide', 'Tzenny Chandris, a Greek freighter laden with scrap iron, foundered in heavy weather', 'fishing', 'Feeding mullet to sharks', 'Arsinoe, a French tanker', 'Cleaning a tank', 'Bending over', \"Sitting in 3' of water\", 'Floating on back', 'Attempting to catch a crocodile', 'Placed hand in disemboweled shark�s jaws', 'Playing volleyball with friends', 'Netting shrimp', 'Splashing', 'Yacht of Michael Howell capsized', 'On a \"shark hunt', 'Bitten while cutting shark from net', 'Sitting in the water', 'Fell onto dead shark', 'Floating on his back', 'Vessel caught fire & capsized, survivors in the water', 'Inspecting teeth of supposedly dead (hooked & shot) shark', 'Sight-seeing', 'Splashing in water', 'Killing a shark', 'Hiking on the beach', 'Playing soccer in the water', 'Hurricane & Tidal Wave', 'Conducting a promotional film project for the Gemini space program (a practice astronaut recovery)', 'Clamming', 'Attempting to fix motor', 'Attempting to ride a shark', 'Sea disaster, wreck of the Alfred Watts', 'Hunting sharks', 'Taking wife to beach & about 1 m from the shore', 'Murder', 'p�cheur de bichiques', 'Grabbed shark & threw it on deck', 'Helping angler land a shark', 'Helping friend land hooked shark', 'Wreck of the schooner Driver', 'Probabable drowning', 'Removing hook from shark', 'Wreck of the tug Magellan', 'Rowing a dinghy', 'S2N Navy scout plane went down, E.H. Almond & Lieut A.G. Reading in water', 'Riding a horse', 'Known as The Battle of the Bismarck Sea :  8 Japanese destroyers guarding a convoy of 8 transports were attacked by 129 Allied fighters, 207 bombers & 3 squadrons of the Royal Australian Air Force', 'Hunting turtle', 'Observing a shark feeding on a carcass of a humpback whale', 'Sitting', 'Feeding stingrays?', 'Reviving a sedated shark', 'Walking in shallows', 'Returning to shore, collided with shark', 'Examining netted shark, that had been shot', 'Attempting to rescue drowning man', 'Attempting to rescue a shark', 'yachtsman in a zodiac', 'In waist-deep water', 'Killing  sharks', 'swimming', \"Holding shark's tail\", 'Catching sardines', 'Thrashing the water / imitating the shark victim from \"Jaws', 'Racing ski', 'Removing shark from a net', \"Attempting to lasso shark's tail\", 'Washing horses', 'Attempted to return injured shark to the sea', 'Parachuted into Pacific', 'Crossing the bay at the ford', 'Sea disaster : Wreck of the Taiaroa', 'A dhow capsized', 'Removing shark from net', 'Picking up shark by the tail', 'Underwater photography', 'Hunting seals', 'Collecting aquarium specimens', 'Riding floatation device', 'Collecting beche-de-mer', 'Sea Disaster : Wreck of the Carrie E. Long', 'Scooping prawns', 'Playing in the water', \"Captured Allied soldiers were squeezed into 3' bamboo pig baskets & fed to waiting sharks\", 'Paddleskiing', 'On December 28, 1908, an earthquake, followed by tsunamis, destroyed coastal towns in Silcily and southern Italy, killing more than 100,000 people', 'Filming & feeding captive sharks', 'Seine netting', 'Disappeared 11 days earlier, probable homicide victim', '3 men & 2 boys picked up wearing life jackets and with inner tube', 'Beach seine netting', 'Ran into the water', 'Catching sharks under government contract', 'Washing', 'Inebriated, woke from sleep and fell off deck into the water', 'The British steamer Caribbee foundered', 'Attempting to free the shark', 'The 168-ton Belmore foundered in heavy seas', 'surfing', 'Knocked into the water', 'The schooner Tahitienne foundered in a hurricane', 'Shooting sharks', 'Attempting to anesthetize shark', 'Walking', 'Paddling in knee-deep water', 'Stamding', 'Dragging a shark', 'Jumped into the water from a cliff', 'Washing clothes', 'Carrying a supposedly dead shark by its mouth', 'Floating, after falling or jumping off the Standard Oil tanker Frederick W. Weller', 'Casting a net', 'Hauling in net with shark in it', 'Harpooning turtles', 'Slapped shark on tail as it swam by', 'Lifesaving exhibition', 'Washing his feet', 'Attempting to chase shark out to sea', 'Crossing the river mouth', 'Air Disaster', 'Lying in 2 feet of water', 'Went to aid of child being menaced by the shark', \"Adrift, hanging onto cushion, after his 17' skiff ran out of gas & capsized 3 miles from shore\", 'Catching a turtle', 'Trailing hand in the water', 'Finning the shark that bit him', 'Dry shelling', 'Ocean racing', 'Angling', 'male', 'Hand feeding sharks', 'Kayaking or Wave skiing', 'Floating face-down in knee-deep water', 'Jumping in the waves', 'Collecting shells', 'Reported swept away by waves while gathering opihi', 'Cutter capsized', 'Measuring sharks', 'Playing / jumping', 'Dangling feet in the water', 'Defecating in water beneath the docks', 'Jumped into the water', 'Crawling', 'Jumping in swells', 'Leicester abandoned in a hurricane', 'Shrimping', 'Petting a shark', 'Exercising his dog in the shallows', 'Washed into sea while picking opihi', 'Attaching a line at sea', '3-masted steel barque Glenbank foundered during a cyclone', 'Filming a documentary', 'Air disaster', 'The coastwise steamer San Basilio capsized in a typhoon', 'Steinhart Aquarium', 'Murdered by Thai pirates', 'Dragging banana seeds through the shallows', 'Investigating shark sighting', 'Attempting to net shark in shark channel', 'Filming underwater, carrying powerhead', 'Finning the shark', 'The schooner Elizabeth, bound from Bluefields, Nicaragua to the river port of San Carlos foundered', 'Jet skiing', 'Crabbing (spearing crabs)', 'Floating with life buoy after pilot launch capsized', 'Sea Disaster', 'Attempting to set underwater endurance record', 'Moving a shark in a net', 'A barque wrecked', 'Murdered', 'Sittting in water with his child', 'Rowing toward snapper grounds', 'Foundering of the Israeli freighter Mezada', 'Attempting to rescue woman seized by shark', 'Feeding prawns to captive sharks', 'Floating face down', 'Fell from wharf into water & attacked immediately', 'Swept off deck of S.S.Frontenac enroute from West Indies to US', 'Washed into sea while picking opihi & attacked by 2 large sharks', 'Removing shark from tank in nightclub', 'HMS Victoria collided with the HMS Camperdown', 'Swept out to sea by the tsunami, she clung  to a log for 24 hours', 'Chumming for white sharks', 'In rubber dinghy with Captain Eddie Rickenbacker for 21 days', 'Conducting research', 'Transatlantic Rowing', 'NSB Meshing', 'Floating in tube', 'Floating', 'Attacked shark with fists', 'The steamer Tahiti collided with the ferry Greycliffe', \"Lying prone in 2' of water\", 'Watching seine netters with friends, one of whom picked up a netted shark', 'Touching the mouth of a supposedly dead shark', 'Wreck of the 150-ton brig Maria', 'Watching seals', 'Kayaking', 'Hooking into a whale', 'Paddling', 'Kneeling in the water', 'Adrift in a life jacket', 'Teasing a shark', 'Put foot inside a landed & supposedly dead shark', \"Fell from his father's back into the water\", 'HBM Magpie foundered in a squall'}\n"
     ]
    }
   ],
   "source": [
    "\"\"\"\n",
    "Cleaning up the 'Activity' column. Maybe use RegEx?\n",
    "\"\"\"\n",
    "import re\n",
    "\n",
    "df.Activity=df.Activity.apply(lambda x: x if pd.isnull(x) else re.sub(r'.*fish.*', 'fishing', x, flags = re.IGNORECASE))\n",
    "df.Activity=df.Activity.apply(lambda x: x if pd.isnull(x) else re.sub(r'.*surf.*', 'surfing', x, flags = re.IGNORECASE))\n",
    "df.Activity=df.Activity.apply(lambda x: x if pd.isnull(x) else re.sub(r'.*swim.*', 'swimming', x, flags = re.IGNORECASE))\n",
    "df.Activity=df.Activity.apply(lambda x: x if pd.isnull(x) else re.sub(r'.*wad.*', 'swimming', x, flags = re.IGNORECASE))\n",
    "df.Activity=df.Activity.apply(lambda x: x if pd.isnull(x) else re.sub(r'.*board.*', 'surfing', x, flags = re.IGNORECASE))\n",
    "df.Activity=df.Activity.apply(lambda x: x if pd.isnull(x) else re.sub(r'.*snork.*', 'swimming', x, flags = re.IGNORECASE))\n",
    "df.Activity=df.Activity.apply(lambda x: x if pd.isnull(x) else re.sub(r'.*lobst.*', 'fishing', x, flags = re.IGNORECASE))\n",
    "df.Activity=df.Activity.apply(lambda x: x if pd.isnull(x) else re.sub(r'.*bath.*', 'swimming', x, flags = re.IGNORECASE))\n",
    "df.Activity=df.Activity.apply(lambda x: x if pd.isnull(x) else re.sub(r'.*sail.*', 'swimming', x, flags = re.IGNORECASE))\n",
    "df.Activity=df.Activity.apply(lambda x: x if pd.isnull(x) else re.sub(r'.*ship.*', 'swimming', x, flags = re.IGNORECASE))\n",
    "df.Activity=df.Activity.apply(lambda x: x if pd.isnull(x) else re.sub(r'.*crash.*', 'swimming', x, flags = re.IGNORECASE))\n",
    "df.Activity=df.Activity.apply(lambda x: x if pd.isnull(x) else re.sub(r'.*boat.*', 'swimming', x, flags = re.IGNORECASE))\n",
    "df.Activity=df.Activity.apply(lambda x: x if pd.isnull(x) else re.sub(r'.*cruis.*', 'swimming', x, flags = re.IGNORECASE))\n",
    "df.Activity=df.Activity.apply(lambda x: x if pd.isnull(x) else re.sub(r'.*div.*', 'swimming', x, flags = re.IGNORECASE))\n",
    "df.Activity=df.Activity.apply(lambda x: x if pd.isnull(x) else re.sub(r'.*accid.*', 'accident', x, flags = re.IGNORECASE))\n",
    "df.Activity=df.Activity.apply(lambda x: x if pd.isnull(x) else re.sub(r'.*s\\Dnk.*', 'accident', x, flags = re.IGNORECASE))\n",
    "df.Activity=df.Activity.apply(lambda x: x if pd.isnull(x) else re.sub(r'.*torpedo.*', 'accident', x, flags = re.IGNORECASE))\n",
    "df.Activity=df.Activity.apply(lambda x: x if pd.isnull(x) else re.sub(r'.*canoe.*', 'accident', x, flags = re.IGNORECASE))\n",
    "df.Activity=df.Activity.apply(lambda x: x if pd.isnull(x) else re.sub(r'.*raft.*', 'accident', x, flags = re.IGNORECASE))\n",
    "df.Activity=df.Activity.apply(lambda x: x if pd.isnull(x) else re.sub(r'.*standing.*', 'swimming', x, flags = re.IGNORECASE))\n",
    "print(set(df.Activity))"
   ]
  },
  {
   "cell_type": "code",
   "execution_count": 134,
   "metadata": {},
   "outputs": [],
   "source": [
    "\"\"\"\n",
    "Cleaning the other results is fastidious so it seems more effective to describe all\n",
    "remaining results as 'accident'\n",
    "\"\"\"\n",
    "df.Activity=df.Activity.apply(lambda x: 'accident' if x not in ['fishing','surfing','swimming'] else x)\n",
    "#for i,row in df[[\"Activity\"]].iterrows():\n",
    " #   if df.Activity[i] not in ['fishing','surfing','swimming']:\n",
    "  #      df.Activity[i]=\"accident\"\n",
    "#print(set(df.Activity))"
   ]
  },
  {
   "cell_type": "code",
   "execution_count": 136,
   "metadata": {},
   "outputs": [
    {
     "name": "stdout",
     "output_type": "stream",
     "text": [
      "AxesSubplot(0.125,0.125;0.775x0.755)\n"
     ]
    },
    {
     "data": {
      "image/png": "[encoded data removed]",
      "text/plain": [
       "<Figure size 432x288 with 1 Axes>"
      ]
     },
     "metadata": {
      "needs_background": "light"
     },
     "output_type": "display_data"
    }
   ],
   "source": [
    "print(df.Activity.value_counts().plot.bar())\n",
    "\n",
    "\"\"\"\n",
    "At least the data seems more homogenous now (although probably irrelevant)\n",
    "\"\"\""
   ]
  },
  {
   "cell_type": "code",
   "execution_count": 139,
   "metadata": {},
   "outputs": [
    {
     "data": {
      "text/plain": [
       "Index(['Case Number', 'Date', 'Year', 'Type', 'Country', 'Area', 'Location',\n",
       "       'Activity', 'Name', 'Sex ', 'Injury', 'Fatal (Y/N)', 'Species ',\n",
       "       'Investigator or Source', 'pdf', 'href formula', 'href',\n",
       "       'Case Number.1', 'Case Number.2', 'original order'],\n",
       "      dtype='object')"
      ]
     },
     "execution_count": 139,
     "metadata": {},
     "output_type": "execute_result"
    }
   ],
   "source": [
    "df.columns"
   ]
  },
  {
   "cell_type": "code",
   "execution_count": 140,
   "metadata": {},
   "outputs": [
    {
     "data": {
      "text/html": [
       "<div>\n",
       "<style scoped>\n",
       "    .dataframe tbody tr th:only-of-type {\n",
       "        vertical-align: middle;\n",
       "    }\n",
       "\n",
       "    .dataframe tbody tr th {\n",
       "        vertical-align: top;\n",
       "    }\n",
       "\n",
       "    .dataframe thead th {\n",
       "        text-align: right;\n",
       "    }\n",
       "</style>\n",
       "<table border=\"1\" class=\"dataframe\">\n",
       "  <thead>\n",
       "    <tr style=\"text-align: right;\">\n",
       "      <th></th>\n",
       "      <th>Case Number</th>\n",
       "      <th>Date</th>\n",
       "      <th>Year</th>\n",
       "      <th>Type</th>\n",
       "      <th>Country</th>\n",
       "      <th>Area</th>\n",
       "      <th>Location</th>\n",
       "      <th>Activity</th>\n",
       "      <th>Name</th>\n",
       "      <th>Sex</th>\n",
       "      <th>Injury</th>\n",
       "      <th>Fatal (Y/N)</th>\n",
       "      <th>Species</th>\n",
       "      <th>Investigator or Source</th>\n",
       "      <th>pdf</th>\n",
       "      <th>href formula</th>\n",
       "      <th>href</th>\n",
       "      <th>Case Number.1</th>\n",
       "      <th>Case Number.2</th>\n",
       "      <th>original order</th>\n",
       "    </tr>\n",
       "  </thead>\n",
       "  <tbody>\n",
       "    <tr>\n",
       "      <th>4</th>\n",
       "      <td>2016.09.15</td>\n",
       "      <td>16-Sep-16</td>\n",
       "      <td>2016</td>\n",
       "      <td>Unprovoked</td>\n",
       "      <td>AUSTRALIA</td>\n",
       "      <td>Victoria</td>\n",
       "      <td>Bells Beach</td>\n",
       "      <td>surfing</td>\n",
       "      <td>male</td>\n",
       "      <td>M</td>\n",
       "      <td>No injury: Knocked off board by shark</td>\n",
       "      <td>N</td>\n",
       "      <td>2 m shark</td>\n",
       "      <td>The Age, 9/16/2016</td>\n",
       "      <td>2016.09.16-BellsBeach.pdf</td>\n",
       "      <td>http://sharkattackfile.net/spreadsheets/pdf_di...</td>\n",
       "      <td>http://sharkattackfile.net/spreadsheets/pdf_di...</td>\n",
       "      <td>2016.09.16</td>\n",
       "      <td>2016.09.15</td>\n",
       "      <td>5989</td>\n",
       "    </tr>\n",
       "    <tr>\n",
       "      <th>33</th>\n",
       "      <td>2016.07.14.4</td>\n",
       "      <td>Reported  14-Jul-2016</td>\n",
       "      <td>2016</td>\n",
       "      <td>Unprovoked</td>\n",
       "      <td>BAHAMAS</td>\n",
       "      <td>NaN</td>\n",
       "      <td>Tiger Beach</td>\n",
       "      <td>swimming</td>\n",
       "      <td>Michael Dornellas</td>\n",
       "      <td>M</td>\n",
       "      <td>Face bruised when partly blind shark collided ...</td>\n",
       "      <td>N</td>\n",
       "      <td>Lemon shark, 9'</td>\n",
       "      <td>GrindTV, 7/14/2016</td>\n",
       "      <td>2016.07.14.R-TigerBeach.pdf</td>\n",
       "      <td>http://sharkattackfile.net/spreadsheets/pdf_di...</td>\n",
       "      <td>http://sharkattackfile.net/spreadsheets/pdf_di...</td>\n",
       "      <td>2016.07.14.R</td>\n",
       "      <td>2016.07.14.4</td>\n",
       "      <td>5960</td>\n",
       "    </tr>\n",
       "    <tr>\n",
       "      <th>97</th>\n",
       "      <td>2016.01.24.b</td>\n",
       "      <td>24-Jan-16</td>\n",
       "      <td>2016</td>\n",
       "      <td>Unprovoked</td>\n",
       "      <td>USA</td>\n",
       "      <td>Texas</td>\n",
       "      <td>Off Surfside</td>\n",
       "      <td>fishing</td>\n",
       "      <td>Keith Love</td>\n",
       "      <td>M</td>\n",
       "      <td>Bruised ribs &amp; tail bone, speargun broken and ...</td>\n",
       "      <td>N</td>\n",
       "      <td>Bull sharks x 2</td>\n",
       "      <td>K. Love</td>\n",
       "      <td>2016.01.24.b-Love.pdf</td>\n",
       "      <td>http://sharkattackfile.net/spreadsheets/pdf_di...</td>\n",
       "      <td>http://sharkattackfile.net/spreadsheets/pdf_di...</td>\n",
       "      <td>2015.01.24.b</td>\n",
       "      <td>2016.01.24.b</td>\n",
       "      <td>5896</td>\n",
       "    </tr>\n",
       "    <tr>\n",
       "      <th>116</th>\n",
       "      <td>2015.12.23</td>\n",
       "      <td>07-Nov-15</td>\n",
       "      <td>2015</td>\n",
       "      <td></td>\n",
       "      <td>USA</td>\n",
       "      <td>Florida</td>\n",
       "      <td>Paradise Beach, Melbourne, Brevard County</td>\n",
       "      <td>surfing</td>\n",
       "      <td>Ryla Underwood</td>\n",
       "      <td>F</td>\n",
       "      <td>Lower left leg injured</td>\n",
       "      <td>N</td>\n",
       "      <td>Shark involvement not confirmed</td>\n",
       "      <td>Fox25Orlando, 11/7/2015</td>\n",
       "      <td>2015.11.07-Underwood.pdf</td>\n",
       "      <td>http://sharkattackfile.net/spreadsheets/pdf_di...</td>\n",
       "      <td>http://sharkattackfile.net/spreadsheets/pdf_di...</td>\n",
       "      <td>2015.11.07</td>\n",
       "      <td>2015.12.23</td>\n",
       "      <td>5876</td>\n",
       "    </tr>\n",
       "    <tr>\n",
       "      <th>121</th>\n",
       "      <td>2015.10.28.a</td>\n",
       "      <td>28-Oct-15</td>\n",
       "      <td>2015</td>\n",
       "      <td>Unprovoked</td>\n",
       "      <td>USA</td>\n",
       "      <td>Hawaii</td>\n",
       "      <td>Malaka, Oahu</td>\n",
       "      <td>surfing</td>\n",
       "      <td>Raymond Senensi</td>\n",
       "      <td>M</td>\n",
       "      <td>Lacerations &amp; puncture wounds to right thigh, ...</td>\n",
       "      <td>N</td>\n",
       "      <td>NaN</td>\n",
       "      <td>Star Advertiser, 10/28/2015</td>\n",
       "      <td>2015.10.28-Senensi.pdf</td>\n",
       "      <td>http://sharkattackfile.net/spreadsheets/pdf_di...</td>\n",
       "      <td>http://sharkattackfile.net/spreadsheets/pdf_di...</td>\n",
       "      <td>2015.10.28</td>\n",
       "      <td>2015.10.28.a</td>\n",
       "      <td>5871</td>\n",
       "    </tr>\n",
       "    <tr>\n",
       "      <th>3296</th>\n",
       "      <td>1967.07.05</td>\n",
       "      <td>05-Jul-67</td>\n",
       "      <td>1967</td>\n",
       "      <td>Unprovoked</td>\n",
       "      <td>TURKEY</td>\n",
       "      <td>Mugla Province</td>\n",
       "      <td>Kucukada Island</td>\n",
       "      <td>fishing</td>\n",
       "      <td>Gungor Guven</td>\n",
       "      <td>M</td>\n",
       "      <td>FATAL</td>\n",
       "      <td>Y</td>\n",
       "      <td>NaN</td>\n",
       "      <td>C. Moore, GSAF</td>\n",
       "      <td>1967.07.05-Guven.pdf</td>\n",
       "      <td>http://sharkattackfile.net/spreadsheets/pdf_di...</td>\n",
       "      <td>http://sharkattackfile.net/spreadsheets/pdf_di...</td>\n",
       "      <td>1967/07.05</td>\n",
       "      <td>1967.07.05</td>\n",
       "      <td>2697</td>\n",
       "    </tr>\n",
       "    <tr>\n",
       "      <th>3569</th>\n",
       "      <td>1962,08.30.b</td>\n",
       "      <td>30-Aug-62</td>\n",
       "      <td>1962</td>\n",
       "      <td></td>\n",
       "      <td>TURKEY</td>\n",
       "      <td>Antalya Province</td>\n",
       "      <td>Ucagiz</td>\n",
       "      <td>accident</td>\n",
       "      <td>Occupant: Hasan Olta</td>\n",
       "      <td>M</td>\n",
       "      <td>No injury</td>\n",
       "      <td>N</td>\n",
       "      <td>NaN</td>\n",
       "      <td>C.Moore, GSAF</td>\n",
       "      <td>1962.08.30.b-pdf</td>\n",
       "      <td>http://sharkattackfile.net/spreadsheets/pdf_di...</td>\n",
       "      <td>http://sharkattackfile.net/spreadsheets/pdf_di...</td>\n",
       "      <td>1962.08.30.b</td>\n",
       "      <td>1962,08.30.b</td>\n",
       "      <td>2424</td>\n",
       "    </tr>\n",
       "    <tr>\n",
       "      <th>3654</th>\n",
       "      <td>1961.09.02.R</td>\n",
       "      <td>Reported 06-Sep-1961</td>\n",
       "      <td>1961</td>\n",
       "      <td>Provoked</td>\n",
       "      <td>ITALY</td>\n",
       "      <td>Venice Province</td>\n",
       "      <td>Chioggia</td>\n",
       "      <td>fishing</td>\n",
       "      <td>Pollione Perrini &amp; Fioravante Perini</td>\n",
       "      <td>M</td>\n",
       "      <td>Left foot &amp; right hand bitten by netted shark ...</td>\n",
       "      <td>N</td>\n",
       "      <td>1 m shark</td>\n",
       "      <td>C. Moore, GSAF</td>\n",
       "      <td>1961.09.06.R-Chioggia.pdf</td>\n",
       "      <td>http://sharkattackfile.net/spreadsheets/pdf_di...</td>\n",
       "      <td>http://sharkattackfile.net/spreadsheets/pdf_di...</td>\n",
       "      <td>1961.09,06.R</td>\n",
       "      <td>1961.09.02.R</td>\n",
       "      <td>2339</td>\n",
       "    </tr>\n",
       "    <tr>\n",
       "      <th>4177</th>\n",
       "      <td>1952.08.05</td>\n",
       "      <td>05-Aug-52</td>\n",
       "      <td>1952</td>\n",
       "      <td>Provoked</td>\n",
       "      <td>ITALY</td>\n",
       "      <td>Teramo</td>\n",
       "      <td>Giulianova</td>\n",
       "      <td>fishing</td>\n",
       "      <td>Vittorio Speca</td>\n",
       "      <td>NaN</td>\n",
       "      <td>Multiple injuries PROVOKED INCIDENT</td>\n",
       "      <td>Y</td>\n",
       "      <td>2m shark</td>\n",
       "      <td>C. Moore, GSAF</td>\n",
       "      <td>1952.08.05-Speca.pdf</td>\n",
       "      <td>http://sharkattackfile.net/spreadsheets/pdf_di...</td>\n",
       "      <td>http://sharkattackfile.net/spreadsheets/pdf_di...</td>\n",
       "      <td>1952.08.04</td>\n",
       "      <td>1952.08.05</td>\n",
       "      <td>1816</td>\n",
       "    </tr>\n",
       "    <tr>\n",
       "      <th>5043</th>\n",
       "      <td>1900.00.00.R</td>\n",
       "      <td>Reported to have taken place in 1919</td>\n",
       "      <td>1919</td>\n",
       "      <td></td>\n",
       "      <td>ITALY</td>\n",
       "      <td>NaN</td>\n",
       "      <td>Savona</td>\n",
       "      <td>fishing</td>\n",
       "      <td>NaN</td>\n",
       "      <td>M</td>\n",
       "      <td>No injury</td>\n",
       "      <td>N</td>\n",
       "      <td>13' shark</td>\n",
       "      <td>C. Moore, GSAF</td>\n",
       "      <td>1919.00.00.R-Savona.pdf</td>\n",
       "      <td>http://sharkattackfile.net/spreadsheets/pdf_di...</td>\n",
       "      <td>http://sharkattackfile.net/spreadsheets/pdf_di...</td>\n",
       "      <td>1919.00.00.R</td>\n",
       "      <td>1900.00.00.R</td>\n",
       "      <td>950</td>\n",
       "    </tr>\n",
       "    <tr>\n",
       "      <th>5150</th>\n",
       "      <td>1911.07.31.R</td>\n",
       "      <td>Reported 31-Jul-1911</td>\n",
       "      <td>1911</td>\n",
       "      <td>Unprovoked</td>\n",
       "      <td>SPAIN</td>\n",
       "      <td>M�laga</td>\n",
       "      <td>Ceuta</td>\n",
       "      <td>swimming</td>\n",
       "      <td>a soldier</td>\n",
       "      <td>M</td>\n",
       "      <td>FATAL</td>\n",
       "      <td>Y</td>\n",
       "      <td>NaN</td>\n",
       "      <td>C. Moore</td>\n",
       "      <td>1911.07.31.R-Ceuta.pdf</td>\n",
       "      <td>http://sharkattackfile.net/spreadsheets/pdf_di...</td>\n",
       "      <td>http://sharkattackfile.net/spreadsheets/pdf_di...</td>\n",
       "      <td>1911.07.31.T</td>\n",
       "      <td>1911.07.31.R</td>\n",
       "      <td>843</td>\n",
       "    </tr>\n",
       "  </tbody>\n",
       "</table>\n",
       "</div>"
      ],
      "text/plain": [
       "       Case Number                                  Date  Year        Type  \\\n",
       "4       2016.09.15                             16-Sep-16  2016  Unprovoked   \n",
       "33    2016.07.14.4                 Reported  14-Jul-2016  2016  Unprovoked   \n",
       "97    2016.01.24.b                             24-Jan-16  2016  Unprovoked   \n",
       "116     2015.12.23                             07-Nov-15  2015               \n",
       "121   2015.10.28.a                             28-Oct-15  2015  Unprovoked   \n",
       "3296    1967.07.05                             05-Jul-67  1967  Unprovoked   \n",
       "3569  1962,08.30.b                             30-Aug-62  1962               \n",
       "3654  1961.09.02.R                  Reported 06-Sep-1961  1961    Provoked   \n",
       "4177    1952.08.05                             05-Aug-52  1952    Provoked   \n",
       "5043  1900.00.00.R  Reported to have taken place in 1919  1919               \n",
       "5150  1911.07.31.R                  Reported 31-Jul-1911  1911  Unprovoked   \n",
       "\n",
       "        Country              Area                                   Location  \\\n",
       "4     AUSTRALIA          Victoria                                Bells Beach   \n",
       "33      BAHAMAS               NaN                                Tiger Beach   \n",
       "97          USA             Texas                               Off Surfside   \n",
       "116         USA           Florida  Paradise Beach, Melbourne, Brevard County   \n",
       "121         USA            Hawaii                               Malaka, Oahu   \n",
       "3296     TURKEY    Mugla Province                            Kucukada Island   \n",
       "3569     TURKEY  Antalya Province                                     Ucagiz   \n",
       "3654      ITALY   Venice Province                                   Chioggia   \n",
       "4177      ITALY            Teramo                                 Giulianova   \n",
       "5043      ITALY               NaN                                     Savona   \n",
       "5150      SPAIN            M�laga                                      Ceuta   \n",
       "\n",
       "      Activity                                  Name Sex   \\\n",
       "4      surfing                                  male    M   \n",
       "33    swimming                     Michael Dornellas    M   \n",
       "97     fishing                            Keith Love    M   \n",
       "116    surfing                        Ryla Underwood    F   \n",
       "121    surfing                       Raymond Senensi    M   \n",
       "3296   fishing                          Gungor Guven    M   \n",
       "3569  accident                  Occupant: Hasan Olta    M   \n",
       "3654   fishing  Pollione Perrini & Fioravante Perini    M   \n",
       "4177   fishing                        Vittorio Speca  NaN   \n",
       "5043   fishing                                   NaN    M   \n",
       "5150  swimming                             a soldier    M   \n",
       "\n",
       "                                                 Injury Fatal (Y/N)  \\\n",
       "4                 No injury: Knocked off board by shark           N   \n",
       "33    Face bruised when partly blind shark collided ...           N   \n",
       "97    Bruised ribs & tail bone, speargun broken and ...           N   \n",
       "116                              Lower left leg injured           N   \n",
       "121   Lacerations & puncture wounds to right thigh, ...           N   \n",
       "3296                                              FATAL           Y   \n",
       "3569                                          No injury           N   \n",
       "3654  Left foot & right hand bitten by netted shark ...           N   \n",
       "4177                Multiple injuries PROVOKED INCIDENT           Y   \n",
       "5043                                          No injury           N   \n",
       "5150                                              FATAL           Y   \n",
       "\n",
       "                             Species        Investigator or Source  \\\n",
       "4                           2 m shark           The Age, 9/16/2016   \n",
       "33                    Lemon shark, 9'           GrindTV, 7/14/2016   \n",
       "97                    Bull sharks x 2                      K. Love   \n",
       "116   Shark involvement not confirmed      Fox25Orlando, 11/7/2015   \n",
       "121                               NaN  Star Advertiser, 10/28/2015   \n",
       "3296                              NaN               C. Moore, GSAF   \n",
       "3569                              NaN                C.Moore, GSAF   \n",
       "3654                        1 m shark               C. Moore, GSAF   \n",
       "4177                         2m shark               C. Moore, GSAF   \n",
       "5043                        13' shark               C. Moore, GSAF   \n",
       "5150                              NaN                     C. Moore   \n",
       "\n",
       "                              pdf  \\\n",
       "4       2016.09.16-BellsBeach.pdf   \n",
       "33    2016.07.14.R-TigerBeach.pdf   \n",
       "97          2016.01.24.b-Love.pdf   \n",
       "116      2015.11.07-Underwood.pdf   \n",
       "121        2015.10.28-Senensi.pdf   \n",
       "3296         1967.07.05-Guven.pdf   \n",
       "3569             1962.08.30.b-pdf   \n",
       "3654    1961.09.06.R-Chioggia.pdf   \n",
       "4177         1952.08.05-Speca.pdf   \n",
       "5043      1919.00.00.R-Savona.pdf   \n",
       "5150       1911.07.31.R-Ceuta.pdf   \n",
       "\n",
       "                                           href formula  \\\n",
       "4     http://sharkattackfile.net/spreadsheets/pdf_di...   \n",
       "33    http://sharkattackfile.net/spreadsheets/pdf_di...   \n",
       "97    http://sharkattackfile.net/spreadsheets/pdf_di...   \n",
       "116   http://sharkattackfile.net/spreadsheets/pdf_di...   \n",
       "121   http://sharkattackfile.net/spreadsheets/pdf_di...   \n",
       "3296  http://sharkattackfile.net/spreadsheets/pdf_di...   \n",
       "3569  http://sharkattackfile.net/spreadsheets/pdf_di...   \n",
       "3654  http://sharkattackfile.net/spreadsheets/pdf_di...   \n",
       "4177  http://sharkattackfile.net/spreadsheets/pdf_di...   \n",
       "5043  http://sharkattackfile.net/spreadsheets/pdf_di...   \n",
       "5150  http://sharkattackfile.net/spreadsheets/pdf_di...   \n",
       "\n",
       "                                                   href Case Number.1  \\\n",
       "4     http://sharkattackfile.net/spreadsheets/pdf_di...    2016.09.16   \n",
       "33    http://sharkattackfile.net/spreadsheets/pdf_di...  2016.07.14.R   \n",
       "97    http://sharkattackfile.net/spreadsheets/pdf_di...  2015.01.24.b   \n",
       "116   http://sharkattackfile.net/spreadsheets/pdf_di...    2015.11.07   \n",
       "121   http://sharkattackfile.net/spreadsheets/pdf_di...    2015.10.28   \n",
       "3296  http://sharkattackfile.net/spreadsheets/pdf_di...    1967/07.05   \n",
       "3569  http://sharkattackfile.net/spreadsheets/pdf_di...  1962.08.30.b   \n",
       "3654  http://sharkattackfile.net/spreadsheets/pdf_di...  1961.09,06.R   \n",
       "4177  http://sharkattackfile.net/spreadsheets/pdf_di...    1952.08.04   \n",
       "5043  http://sharkattackfile.net/spreadsheets/pdf_di...  1919.00.00.R   \n",
       "5150  http://sharkattackfile.net/spreadsheets/pdf_di...  1911.07.31.T   \n",
       "\n",
       "     Case Number.2  original order  \n",
       "4       2016.09.15            5989  \n",
       "33    2016.07.14.4            5960  \n",
       "97    2016.01.24.b            5896  \n",
       "116     2015.12.23            5876  \n",
       "121   2015.10.28.a            5871  \n",
       "3296    1967.07.05            2697  \n",
       "3569  1962,08.30.b            2424  \n",
       "3654  1961.09.02.R            2339  \n",
       "4177    1952.08.05            1816  \n",
       "5043  1900.00.00.R             950  \n",
       "5150  1911.07.31.R             843  "
      ]
     },
     "execution_count": 140,
     "metadata": {},
     "output_type": "execute_result"
    }
   ],
   "source": [
    "df1=df[df[\"Case Number.1\"]!=df[\"Case Number.2\"]]\n",
    "df1\n",
    "\"\"\"\n",
    "There are very few instances where Case Number.1 and Case Number.2 are different,\n",
    "so it seems reasonnable to drop one of the 2 columns\"\"\""
   ]
  },
  {
   "cell_type": "code",
   "execution_count": 144,
   "metadata": {},
   "outputs": [
    {
     "data": {
      "text/plain": [
       "Index(['Case Number', 'Date', 'Year', 'Type', 'Country', 'Area', 'Location',\n",
       "       'Activity', 'Name', 'Sex ', 'Injury', 'Fatal (Y/N)', 'Species ',\n",
       "       'Investigator or Source', 'pdf', 'href formula', 'href',\n",
       "       'Case Number.2', 'original order'],\n",
       "      dtype='object')"
      ]
     },
     "execution_count": 144,
     "metadata": {},
     "output_type": "execute_result"
    }
   ],
   "source": [
    "df=df.drop(\"Case Number.1\",axis=1)\n",
    "df.columns\n",
    "\"\"\"\n",
    "Drop done\n",
    "\"\"\""
   ]
  },
  {
   "cell_type": "code",
   "execution_count": null,
   "metadata": {},
   "outputs": [],
   "source": []
  },
  {
   "cell_type": "code",
   "execution_count": null,
   "metadata": {},
   "outputs": [],
   "source": []
  },
  {
   "cell_type": "code",
   "execution_count": null,
   "metadata": {},
   "outputs": [],
   "source": []
  },
  {
   "cell_type": "code",
   "execution_count": null,
   "metadata": {},
   "outputs": [],
   "source": []
  },
  {
   "cell_type": "code",
   "execution_count": null,
   "metadata": {},
   "outputs": [],
   "source": []
  },
  {
   "cell_type": "code",
   "execution_count": null,
   "metadata": {},
   "outputs": [],
   "source": []
  },
  {
   "cell_type": "code",
   "execution_count": 145,
   "metadata": {},
   "outputs": [],
   "source": [
    "df_clean=df"
   ]
  },
  {
   "cell_type": "code",
   "execution_count": 146,
   "metadata": {},
   "outputs": [],
   "source": [
    "df_clean.to_csv('/Users/timotheeduverne/Documents/GitHub/Test-Tim/data-labs/module-1/pandas-project/your-code/clean_dataframe.csv', index=False)\n",
    "# index=False deletes the index column before storing the clean dataframe to a csv file"
   ]
  }
 ],
 "metadata": {
  "kernelspec": {
   "display_name": "Python 3",
   "language": "python",
   "name": "python3"
  },
  "language_info": {
   "codemirror_mode": {
    "name": "ipython",
    "version": 3
   },
   "file_extension": ".py",
   "mimetype": "text/x-python",
   "name": "python",
   "nbconvert_exporter": "python",
   "pygments_lexer": "ipython3",
   "version": "3.7.3"
  }
 },
 "nbformat": 4,
 "nbformat_minor": 2
}
